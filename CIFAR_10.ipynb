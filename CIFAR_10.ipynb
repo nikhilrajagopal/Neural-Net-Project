{
  "nbformat": 4,
  "nbformat_minor": 0,
  "metadata": {
    "colab": {
      "provenance": [],
      "gpuType": "T4"
    },
    "kernelspec": {
      "name": "python3",
      "display_name": "Python 3"
    },
    "language_info": {
      "name": "python"
    },
    "accelerator": "GPU"
  },
  "cells": [
    {
      "cell_type": "markdown",
      "source": [
        "**Used Google Collab for GPU acceleration in order for faster performance.**"
      ],
      "metadata": {
        "id": "LGyruL7LNIWJ"
      }
    },
    {
      "cell_type": "code",
      "execution_count": 1,
      "metadata": {
        "id": "LZfJYhgUM9H9"
      },
      "outputs": [],
      "source": [
        "# Imports for pytorch\n",
        "import numpy as np\n",
        "import torch\n",
        "import torchvision\n",
        "from torchvision import transforms\n",
        "from torch import nn\n",
        "import matplotlib\n",
        "from matplotlib import pyplot as plt\n",
        "from tqdm import tqdm_notebook as tqdm\n",
        "from torch.utils.data import DataLoader\n"
      ]
    },
    {
      "cell_type": "code",
      "source": [
        "# Determine the device\n",
        "device = torch.device(\"cuda\" if torch.cuda.is_available() else \"cpu\")\n",
        "print(\"Using device\", device)"
      ],
      "metadata": {
        "colab": {
          "base_uri": "https://localhost:8080/"
        },
        "id": "yktqQ8rENNEa",
        "outputId": "84d76ba7-5023-453e-d611-cbaf531d22c4"
      },
      "execution_count": 2,
      "outputs": [
        {
          "output_type": "stream",
          "name": "stdout",
          "text": [
            "Using device cuda\n"
          ]
        }
      ]
    },
    {
      "cell_type": "markdown",
      "source": [
        "# **Training CIFAR-10 Dataset**"
      ],
      "metadata": {
        "id": "hkYZ2wuBNUDX"
      }
    },
    {
      "cell_type": "code",
      "source": [
        "transform = torchvision.transforms.ToTensor()\n",
        "transform_train = transforms.Compose([\n",
        "    transforms.RandomCrop(32, padding=4),\n",
        "    transforms.RandomHorizontalFlip(),\n",
        "    transforms.ToTensor(),\n",
        "    transforms.Normalize(mean=[0.5, 0.5, 0.5], std=[0.5, 0.5, 0.5])\n",
        "])\n",
        "\n",
        "training_data = torchvision.datasets.CIFAR10(\n",
        "    root=\"data\",\n",
        "    train=True,\n",
        "    download=True,\n",
        "    transform=transform,\n",
        ")\n",
        "train_size = int(len(training_data) * 0.8) # 80% training data\n",
        "valid_size = len(training_data) - train_size # 20% validation data\n",
        "training_data, validation_data = torch.utils.data.random_split(training_data, [train_size, valid_size])\n",
        "train_loader = torch.utils.data.DataLoader(training_data, batch_size=64, shuffle=True)\n",
        "val_loader = torch.utils.data.DataLoader(validation_data, batch_size=64, shuffle=True)\n"
      ],
      "metadata": {
        "colab": {
          "base_uri": "https://localhost:8080/"
        },
        "id": "4uIvLx7ANPk_",
        "outputId": "a74b8949-68f5-4394-9b68-86d8d222dfd6"
      },
      "execution_count": 3,
      "outputs": [
        {
          "output_type": "stream",
          "name": "stdout",
          "text": [
            "Downloading https://www.cs.toronto.edu/~kriz/cifar-10-python.tar.gz to data/cifar-10-python.tar.gz\n"
          ]
        },
        {
          "output_type": "stream",
          "name": "stderr",
          "text": [
            "100%|██████████| 170498071/170498071 [00:13<00:00, 13036203.91it/s]\n"
          ]
        },
        {
          "output_type": "stream",
          "name": "stdout",
          "text": [
            "Extracting data/cifar-10-python.tar.gz to data\n"
          ]
        }
      ]
    },
    {
      "cell_type": "code",
      "source": [
        "#Citation for code chunks: https://pytorch.org/tutorials/beginner/basics/quickstart_tutorial.html\n",
        "\n",
        "batch_size = 128\n",
        "transform = torchvision.transforms.ToTensor()\n",
        "transform_train = transforms.Compose([\n",
        "    transforms.ToTensor(),\n",
        "    transforms.Normalize(mean=[0.5, 0.5, 0.5], std=[0.5, 0.5, 0.5])\n",
        "])\n",
        "\n",
        "training_data = torchvision.datasets.CIFAR10(\n",
        "    root=\"data\",\n",
        "    train=True,\n",
        "    download=True,\n",
        "    transform=transform_train,\n",
        ")\n",
        "device = torch.device(\"cuda\" if torch.cuda.is_available() else \"cpu\")\n",
        "train_size = int(len(training_data) * 0.8) # 80% training data\n",
        "valid_size = len(training_data) - train_size # 20% validation data\n",
        "training_data, validation_data = torch.utils.data.random_split(training_data, [train_size, valid_size])\n",
        "train_dataloader = torch.utils.data.DataLoader(training_data, batch_size=batch_size, shuffle=True)\n",
        "validation_dataloader = torch.utils.data.DataLoader(validation_data, batch_size=batch_size, shuffle=True)\n",
        "class CNN(nn.Module):\n",
        "    def __init__(self):\n",
        "        super(CNN, self).__init__()\n",
        "        self.conv1 = nn.Conv2d(3, 64, kernel_size=3, stride=1, padding=1)\n",
        "        self.relu1 = nn.ReLU()\n",
        "        self.conv2 = nn.Conv2d(64, 128, kernel_size=3, stride=1, padding=1)\n",
        "        self.relu2 = nn.ReLU()\n",
        "        #performs max pooling on the input data --> reduces size of feature maps\n",
        "        self.pool1 = nn.MaxPool2d(kernel_size=2, stride=2)\n",
        "        self.conv3 = nn.Conv2d(128, 256, kernel_size=3, stride=1, padding=1)\n",
        "        self.bn3 = nn.BatchNorm2d(256)\n",
        "        self.relu3 = nn.ReLU()\n",
        "        self.conv4 = nn.Conv2d(256, 256, kernel_size=3, stride=1, padding=1)\n",
        "        self.relu4 = nn.ReLU()\n",
        "        self.pool2 = nn.MaxPool2d(kernel_size=2, stride=2)\n",
        "        self.conv5 = nn.Conv2d(256, 512, kernel_size=3, stride=1, padding=1)\n",
        "        self.relu5 = nn.ReLU()\n",
        "        self.conv6 = nn.Conv2d(512, 512, kernel_size=3, stride=1, padding=1)\n",
        "        self.bn6 = nn.BatchNorm2d(512)\n",
        "        self.relu6 = nn.ReLU()\n",
        "        self.pool3 = nn.MaxPool2d(kernel_size=2, stride=2)\n",
        "        self.fc1 = nn.Linear(512*4*4, 1024)\n",
        "        self.relu7 = nn.ReLU()\n",
        "        #dropout prevents overfitting\n",
        "        self.dropout1 = nn.Dropout(p=0.5)\n",
        "        self.fc2 = nn.Linear(1024, 512)\n",
        "        self.relu8 = nn.ReLU()\n",
        "        self.dropout2 = nn.Dropout(p=0.5)\n",
        "        self.fc3 = nn.Linear(512, 10)\n",
        "    def forward(self, x):\n",
        "        x = self.conv1(x)\n",
        "        x = self.relu1(x)\n",
        "        x = self.conv2(x)\n",
        "        x = self.relu2(x)\n",
        "        x = self.pool1(x)\n",
        "        x = self.conv3(x)\n",
        "        x = self.bn3(x)\n",
        "        x = self.relu3(x)\n",
        "        x = self.conv4(x)\n",
        "        x = self.relu4(x)\n",
        "        x = self.pool2(x)\n",
        "        x = self.conv5(x)\n",
        "        x = self.relu5(x)\n",
        "        x = self.conv6(x)\n",
        "        x = self.relu6(x)\n",
        "        x = self.pool3(x)\n",
        "        x = x.view(-1, 512*16)\n",
        "        x = self.fc1(x)\n",
        "        x = self.relu7(x)\n",
        "        x = self.dropout1(x)\n",
        "        x = self.fc2(x)\n",
        "        x = self.relu8(x)\n",
        "        x = self.dropout2(x)\n",
        "        x = self.fc3(x)\n",
        "        return x\n",
        "\n",
        "# class CNN(nn.Module):\n",
        "#     def __init__(self):\n",
        "#         super(CNN, self).__init__()\n",
        "#         self.conv_layers = nn.Sequential(\n",
        "#             nn.Conv2d(3, 32, kernel_size=3, padding=1),\n",
        "#             nn.BatchNorm2d(32),\n",
        "#             _size=3, padding=1),\n",
        "#             nn.BatchNorm2d(128),\n",
        "#             nn.ReLU(inplace=True),\n",
        "#             nn.MaxPool2d(kernel_size=2, stride=2),\n",
        "#         )\n",
        "#         self.fc_layers = nn.Sequential(\n",
        "#             nn.Linear(128*8*8, 512),\n",
        "#             nn.BatchNorm1d(512),\n",
        "#             nn.ReLU(inplace=True),\n",
        "#             nn.Dropout(p=0.5),\n",
        "#             nn.Linear(512, 10),\n",
        "#         )\n",
        "\n",
        "#     def forward(self, x):\n",
        "#         x = self.conv_layers(x)\n",
        "#         x = x.view(x.size(0), -1)\n",
        "#         x = self.fc_layers(x)\n",
        "#         return x\n",
        "\n",
        "model = CNN().to(device)\n",
        "print(model)\n",
        "print(device)\n",
        "loss_fn = nn.CrossEntropyLoss()\n",
        "optimizer = torch.optim.SGD(model.parameters(), lr=0.5)\n",
        "scheduler = torch.optim.lr_scheduler.ExponentialLR(optimizer, gamma=0.9)\n",
        "\n",
        "epochs = 15\n",
        "training_acc = []\n",
        "training_loss = []\n",
        "validation_acc = []\n",
        "validation_loss = []\n",
        "for epoch in np.arange(epochs):\n",
        "    print(f\"\\nEpoch {epoch+1}\\n-------------------------------\")\n",
        "    size = len(train_dataloader.dataset)\n",
        "    num_batches = len(train_dataloader)\n",
        "    train_loss, other_correct = 0, 0\n",
        "    model.train()\n",
        "    for batch, (X, y) in enumerate(train_dataloader):\n",
        "        X, y = X.to(device), y.to(device)\n",
        "        pred = model(X)\n",
        "        loss = loss_fn(pred, y)\n",
        "        optimizer.zero_grad()\n",
        "        loss.backward()\n",
        "        optimizer.step()\n",
        "        other_correct += (pred.argmax(1) == y).type(torch.float).sum().item()\n",
        "        train_loss += loss_fn(pred, y).item()\n",
        "        if batch % 100 == 0:\n",
        "            loss, current = loss.item(), (batch + 1) * len(X)\n",
        "    train_loss /= num_batches\n",
        "    other_correct /= size\n",
        "    training_acc.append(100*other_correct)\n",
        "    training_loss.append(train_loss)\n",
        "    print(\"Training Accuracy: \", (100*other_correct))\n",
        "    scheduler.step()\n",
        "    # size = len(validation_dataloader.dataset)\n",
        "    # num_batches = len(validation_dataloader)\n",
        "    # model.eval()\n",
        "    # val_loss, correct = 0, 0\n",
        "    # with torch.no_grad():\n",
        "    #     for X, y in validation_dataloader:\n",
        "    #         X, y = X.to(device), y.to(device)\n",
        "    #         pred = model(X)\n",
        "    #         val_loss += loss_fn(pred, y).item()\n",
        "    #         correct += (pred.argmax(1) == y).type(torch.float).sum().item()\n",
        "    # val_loss /= num_batches\n",
        "    # correct /= size\n",
        "    # validation_acc.append(100*correct)\n",
        "    # validation_loss.append(val_loss)\n",
        "    # print(\"Validation Accuracy: \", (100*correct))\n",
        "with torch.no_grad():\n",
        "    model.eval() # Put model in eval mode\n",
        "    num_correct = 0\n",
        "    for X, y in validation_dataloader:\n",
        "        X, y = X.float().to(device), y.float().to(device)\n",
        "        pred = model(X)\n",
        "        num_correct += (pred.argmax(1) == y).type(torch.float).sum().item()\n",
        "    print(\"\\nFinal Validation Accuracy:\", num_correct / len(validation_dataloader.dataset))\n",
        "    model.train() # Put model back in train mode\n",
        "# print('Training Accuracy: ', training_acc)\n",
        "# print('Validation Accuracy: ', validation_acc)\n",
        "# print('Training Loss: ', training_loss)\n",
        "# print('Validation Loss: ', validation_loss)\n"
      ],
      "metadata": {
        "colab": {
          "base_uri": "https://localhost:8080/"
        },
        "id": "i0Rk5U6WNj3W",
        "outputId": "cc78fd5e-7ea2-4725-c580-c805a4d345a4"
      },
      "execution_count": 4,
      "outputs": [
        {
          "output_type": "stream",
          "name": "stdout",
          "text": [
            "Files already downloaded and verified\n",
            "CNN(\n",
            "  (conv1): Conv2d(3, 64, kernel_size=(3, 3), stride=(1, 1), padding=(1, 1))\n",
            "  (relu1): ReLU()\n",
            "  (conv2): Conv2d(64, 128, kernel_size=(3, 3), stride=(1, 1), padding=(1, 1))\n",
            "  (relu2): ReLU()\n",
            "  (pool1): MaxPool2d(kernel_size=2, stride=2, padding=0, dilation=1, ceil_mode=False)\n",
            "  (conv3): Conv2d(128, 256, kernel_size=(3, 3), stride=(1, 1), padding=(1, 1))\n",
            "  (bn3): BatchNorm2d(256, eps=1e-05, momentum=0.1, affine=True, track_running_stats=True)\n",
            "  (relu3): ReLU()\n",
            "  (conv4): Conv2d(256, 256, kernel_size=(3, 3), stride=(1, 1), padding=(1, 1))\n",
            "  (relu4): ReLU()\n",
            "  (pool2): MaxPool2d(kernel_size=2, stride=2, padding=0, dilation=1, ceil_mode=False)\n",
            "  (conv5): Conv2d(256, 512, kernel_size=(3, 3), stride=(1, 1), padding=(1, 1))\n",
            "  (relu5): ReLU()\n",
            "  (conv6): Conv2d(512, 512, kernel_size=(3, 3), stride=(1, 1), padding=(1, 1))\n",
            "  (bn6): BatchNorm2d(512, eps=1e-05, momentum=0.1, affine=True, track_running_stats=True)\n",
            "  (relu6): ReLU()\n",
            "  (pool3): MaxPool2d(kernel_size=2, stride=2, padding=0, dilation=1, ceil_mode=False)\n",
            "  (fc1): Linear(in_features=8192, out_features=1024, bias=True)\n",
            "  (relu7): ReLU()\n",
            "  (dropout1): Dropout(p=0.5, inplace=False)\n",
            "  (fc2): Linear(in_features=1024, out_features=512, bias=True)\n",
            "  (relu8): ReLU()\n",
            "  (dropout2): Dropout(p=0.5, inplace=False)\n",
            "  (fc3): Linear(in_features=512, out_features=10, bias=True)\n",
            ")\n",
            "cuda\n",
            "\n",
            "Epoch 1\n",
            "-------------------------------\n",
            "Training Accuracy:  13.267499999999998\n",
            "\n",
            "Epoch 2\n",
            "-------------------------------\n",
            "Training Accuracy:  24.4275\n",
            "\n",
            "Epoch 3\n",
            "-------------------------------\n",
            "Training Accuracy:  39.8775\n",
            "\n",
            "Epoch 4\n",
            "-------------------------------\n",
            "Training Accuracy:  52.93750000000001\n",
            "\n",
            "Epoch 5\n",
            "-------------------------------\n",
            "Training Accuracy:  62.785000000000004\n",
            "\n",
            "Epoch 6\n",
            "-------------------------------\n",
            "Training Accuracy:  69.6075\n",
            "\n",
            "Epoch 7\n",
            "-------------------------------\n",
            "Training Accuracy:  74.965\n",
            "\n",
            "Epoch 8\n",
            "-------------------------------\n",
            "Training Accuracy:  79.62\n",
            "\n",
            "Epoch 9\n",
            "-------------------------------\n",
            "Training Accuracy:  83.6275\n",
            "\n",
            "Epoch 10\n",
            "-------------------------------\n",
            "Training Accuracy:  87.5975\n",
            "\n",
            "Epoch 11\n",
            "-------------------------------\n",
            "Training Accuracy:  90.685\n",
            "\n",
            "Epoch 12\n",
            "-------------------------------\n",
            "Training Accuracy:  93.6325\n",
            "\n",
            "Epoch 13\n",
            "-------------------------------\n",
            "Training Accuracy:  95.7175\n",
            "\n",
            "Epoch 14\n",
            "-------------------------------\n",
            "Training Accuracy:  96.985\n",
            "\n",
            "Epoch 15\n",
            "-------------------------------\n",
            "Training Accuracy:  98.0375\n",
            "\n",
            "Final Validation Accuracy: 0.7608\n"
          ]
        }
      ]
    },
    {
      "cell_type": "code",
      "source": [
        "plt.plot(np.arange(1, 16), training_loss)\n",
        "plt.xlabel('Number of Epochs')\n",
        "plt.ylabel('Loss')\n",
        "plt.title('Training vs. Number of Epochs')\n",
        "plt.show()"
      ],
      "metadata": {
        "colab": {
          "base_uri": "https://localhost:8080/",
          "height": 472
        },
        "id": "ulAJs2xTNqye",
        "outputId": "100f167a-4996-4c20-893e-92936ed384a7"
      },
      "execution_count": 5,
      "outputs": [
        {
          "output_type": "display_data",
          "data": {
            "text/plain": [
              "<Figure size 640x480 with 1 Axes>"
            ],
            "image/png": "[encoded data removed]"
          },
          "metadata": {}
        }
      ]
    },
    {
      "cell_type": "code",
      "source": [
        "from PIL import Image\n",
        "import os\n",
        "\n",
        "class CIFAR10Test(torchvision.datasets.VisionDataset):\n",
        "\n",
        "    def __init__(self, transform=None, target_transform=None):\n",
        "        super(CIFAR10Test, self).__init__(None, transform=transform,\n",
        "                                      target_transform=target_transform)\n",
        "        assert os.path.exists(\"data/cifar10_test_data_sp23.npy\"), \"You must upload the test data to the file system.\"\n",
        "        self.data = [np.load(\"data/cifar10_test_data_sp23.npy\", allow_pickle=False)]\n",
        "\n",
        "        self.data = np.vstack(self.data).reshape(-1, 3, 32, 32)\n",
        "        self.data = self.data.transpose((0, 2, 3, 1))  # convert to HWC\n",
        "\n",
        "    def __getitem__(self, index: int):\n",
        "        img = self.data[index]\n",
        "        img = Image.fromarray(img)\n",
        "        if self.transform is not None:\n",
        "            img = self.transform(img)\n",
        "        return img\n",
        "\n",
        "    def __len__(self) -> int:\n",
        "        return len(self.data)\n",
        "\n",
        "# Create the test dataset\n",
        "testing_data = CIFAR10Test(\n",
        "    transform=transform_train\n",
        ")\n",
        "print(len(testing_data))"
      ],
      "metadata": {
        "colab": {
          "base_uri": "https://localhost:8080/"
        },
        "id": "opg9rM8lNs1q",
        "outputId": "6ddffc37-fac5-4608-badc-4de3b47cb103"
      },
      "execution_count": 7,
      "outputs": [
        {
          "output_type": "stream",
          "name": "stdout",
          "text": [
            "10000\n"
          ]
        }
      ]
    },
    {
      "cell_type": "code",
      "source": [
        "batch_size = 128\n",
        "test_dataloader = torch.utils.data.DataLoader(testing_data, shuffle=False)\n",
        "print(len(test_dataloader))\n",
        "model.eval()\n",
        "predictions = []\n",
        "with torch.no_grad():\n",
        "    for x in test_dataloader:\n",
        "        outputs = model(x.to(device))\n",
        "        # convert outputs to probabilities and get the class with highest probability\n",
        "        probabilities, predicted_classes = torch.max(torch.softmax(outputs, dim=1), dim=1)\n",
        "        predictions.append(predicted_classes.cpu().numpy()[0])\n",
        "print(predictions)\n",
        "print(type(predictions))"
      ],
      "metadata": {
        "id": "9oA72iD6NwHj",
        "colab": {
          "base_uri": "https://localhost:8080/"
        },
        "outputId": "f82b3977-2665-4cf0-bdeb-324a6861b37a"
      },
      "execution_count": 8,
      "outputs": [
        {
          "output_type": "stream",
          "name": "stdout",
          "text": [
            "10000\n",
            "[0, 8, 8, 3, 3, 3, 0, 8, 3, 7, 2, 5, 5, 1, 3, 7, 2, 7, 5, 4, 2, 1, 4, 5, 0, 8, 8, 5, 8, 3, 8, 3, 8, 4, 8, 2, 7, 0, 0, 7, 2, 7, 2, 0, 1, 7, 5, 0, 9, 1, 6, 6, 3, 3, 4, 3, 0, 0, 9, 8, 6, 3, 5, 3, 5, 3, 8, 9, 7, 3, 7, 2, 9, 3, 3, 7, 8, 3, 5, 6, 1, 1, 7, 3, 2, 0, 0, 9, 8, 5, 5, 6, 1, 8, 6, 2, 9, 6, 5, 3, 6, 3, 6, 3, 3, 1, 3, 6, 9, 8, 1, 3, 4, 2, 1, 1, 8, 9, 7, 2, 1, 8, 2, 6, 8, 6, 3, 7, 8, 6, 8, 6, 6, 7, 5, 8, 8, 5, 0, 3, 1, 6, 8, 8, 6, 2, 6, 0, 4, 6, 3, 2, 2, 1, 9, 8, 0, 1, 4, 2, 6, 2, 1, 4, 8, 1, 1, 9, 6, 1, 0, 0, 8, 6, 1, 2, 2, 6, 2, 8, 9, 5, 2, 7, 5, 6, 6, 5, 4, 3, 8, 8, 1, 2, 2, 6, 1, 3, 6, 8, 1, 2, 7, 1, 2, 1, 3, 1, 2, 1, 7, 2, 9, 6, 3, 4, 2, 3, 1, 5, 9, 6, 3, 1, 7, 0, 8, 1, 2, 7, 7, 5, 5, 3, 3, 7, 0, 6, 1, 1, 3, 1, 7, 4, 8, 8, 8, 9, 1, 8, 7, 8, 0, 8, 7, 0, 5, 9, 3, 1, 5, 7, 5, 0, 3, 8, 4, 1, 8, 3, 7, 1, 3, 6, 2, 8, 3, 1, 7, 2, 5, 9, 9, 2, 9, 7, 6, 2, 0, 2, 2, 3, 0, 6, 5, 5, 3, 0, 3, 6, 8, 7, 6, 5, 2, 3, 9, 8, 6, 1, 1, 0, 2, 2, 7, 3, 7, 6, 4, 3, 5, 8, 2, 6, 6, 9, 9, 0, 6, 3, 7, 4, 1, 6, 6, 8, 5, 2, 6, 5, 5, 9, 0, 5, 5, 5, 2, 9, 9, 1, 3, 2, 8, 6, 3, 2, 9, 4, 8, 3, 0, 0, 2, 2, 5, 6, 7, 4, 0, 5, 9, 5, 7, 2, 5, 1, 2, 5, 5, 4, 1, 8, 9, 3, 6, 9, 9, 4, 5, 7, 1, 4, 2, 6, 6, 9, 9, 5, 5, 5, 6, 5, 3, 3, 6, 6, 3, 9, 3, 7, 5, 7, 4, 3, 1, 3, 3, 8, 1, 7, 1, 1, 6, 0, 2, 7, 1, 5, 8, 7, 1, 2, 2, 1, 2, 2, 8, 3, 5, 3, 5, 3, 0, 6, 1, 0, 8, 0, 8, 0, 8, 3, 0, 9, 5, 3, 0, 6, 4, 6, 9, 8, 8, 0, 5, 3, 3, 3, 2, 0, 5, 7, 3, 6, 6, 7, 7, 8, 0, 2, 9, 3, 2, 1, 5, 6, 7, 1, 3, 6, 3, 8, 7, 7, 5, 5, 6, 1, 3, 7, 0, 0, 0, 3, 9, 7, 1, 0, 5, 0, 6, 2, 5, 5, 9, 9, 5, 3, 9, 8, 3, 2, 3, 9, 7, 3, 9, 5, 9, 6, 0, 5, 3, 0, 0, 7, 5, 3, 2, 8, 0, 4, 9, 5, 7, 8, 2, 9, 1, 2, 6, 1, 8, 0, 0, 1, 5, 9, 1, 8, 3, 3, 0, 0, 2, 2, 6, 8, 3, 4, 0, 1, 3, 7, 0, 9, 9, 3, 5, 8, 8, 3, 6, 8, 5, 6, 7, 5, 0, 5, 2, 7, 1, 9, 1, 3, 5, 0, 3, 0, 7, 5, 6, 3, 0, 8, 0, 0, 0, 6, 8, 3, 7, 9, 0, 0, 2, 2, 1, 6, 3, 8, 5, 1, 0, 7, 3, 0, 5, 3, 7, 5, 0, 4, 8, 7, 4, 9, 4, 1, 2, 3, 9, 9, 8, 1, 8, 2, 3, 9, 3, 1, 4, 3, 9, 0, 4, 3, 4, 4, 2, 3, 9, 7, 1, 0, 8, 0, 4, 1, 4, 9, 8, 3, 4, 5, 3, 3, 5, 4, 2, 3, 2, 3, 4, 7, 3, 4, 0, 6, 0, 8, 0, 2, 5, 3, 5, 9, 8, 2, 0, 2, 5, 3, 1, 0, 2, 1, 0, 1, 8, 4, 5, 7, 1, 6, 0, 4, 2, 2, 4, 9, 3, 2, 5, 6, 6, 5, 2, 2, 4, 1, 0, 5, 5, 2, 2, 7, 3, 1, 1, 0, 4, 5, 5, 1, 0, 5, 5, 2, 8, 7, 4, 3, 1, 1, 0, 9, 3, 3, 8, 2, 8, 6, 3, 3, 8, 6, 8, 8, 2, 7, 7, 8, 8, 0, 9, 3, 0, 2, 6, 4, 3, 9, 3, 0, 0, 7, 4, 3, 5, 0, 4, 0, 7, 9, 2, 8, 2, 6, 4, 7, 2, 7, 2, 3, 0, 1, 5, 9, 0, 3, 0, 2, 0, 0, 5, 0, 4, 4, 2, 3, 4, 8, 3, 5, 4, 7, 2, 7, 2, 9, 2, 2, 2, 8, 0, 7, 3, 3, 4, 7, 5, 5, 8, 5, 1, 5, 9, 7, 2, 2, 7, 3, 5, 2, 2, 9, 9, 3, 3, 5, 5, 6, 5, 3, 5, 0, 2, 2, 8, 0, 9, 4, 8, 8, 9, 9, 0, 5, 2, 0, 2, 7, 3, 0, 3, 0, 5, 6, 8, 5, 2, 6, 3, 4, 2, 3, 0, 2, 0, 0, 7, 2, 6, 3, 1, 9, 3, 4, 3, 5, 2, 4, 6, 2, 3, 2, 6, 5, 3, 4, 8, 3, 2, 7, 6, 7, 2, 2, 4, 2, 2, 1, 1, 5, 3, 1, 5, 2, 2, 2, 7, 5, 3, 0, 4, 3, 6, 8, 3, 8, 6, 7, 9, 4, 5, 2, 1, 5, 6, 8, 0, 8, 9, 0, 9, 8, 4, 3, 1, 2, 1, 0, 2, 8, 6, 8, 3, 0, 3, 9, 7, 8, 7, 2, 3, 5, 8, 4, 5, 4, 3, 7, 4, 2, 1, 1, 1, 0, 9, 9, 3, 4, 0, 4, 6, 5, 3, 3, 3, 9, 1, 7, 1, 1, 9, 3, 5, 8, 3, 3, 4, 2, 6, 7, 3, 6, 2, 1, 2, 9, 6, 5, 3, 6, 3, 1, 5, 5, 2, 3, 8, 6, 9, 7, 6, 1, 8, 0, 2, 4, 3, 6, 4, 6, 6, 5, 4, 8, 8, 1, 9, 3, 8, 3, 3, 0, 1, 6, 8, 5, 3, 7, 1, 5, 5, 2, 5, 3, 5, 5, 2, 3, 0, 5, 9, 8, 1, 8, 9, 4, 0, 7, 9, 3, 4, 7, 9, 8, 6, 2, 4, 0, 6, 0, 6, 3, 3, 3, 7, 3, 2, 2, 9, 1, 3, 6, 8, 4, 6, 4, 4, 7, 6, 7, 8, 7, 3, 1, 5, 7, 6, 3, 9, 3, 7, 9, 3, 9, 4, 5, 6, 8, 0, 8, 3, 6, 9, 2, 5, 3, 7, 4, 6, 1, 8, 5, 6, 9, 7, 6, 4, 6, 2, 3, 8, 0, 5, 2, 7, 1, 6, 0, 2, 9, 3, 5, 7, 3, 1, 2, 4, 9, 2, 9, 7, 0, 8, 1, 5, 2, 3, 3, 8, 3, 7, 1, 9, 3, 2, 1, 1, 8, 7, 1, 0, 5, 9, 3, 9, 9, 7, 3, 2, 5, 6, 1, 9, 3, 9, 8, 6, 9, 3, 4, 7, 8, 0, 1, 6, 3, 5, 4, 6, 2, 5, 8, 4, 5, 2, 6, 6, 5, 1, 7, 7, 3, 0, 3, 8, 1, 6, 3, 8, 9, 5, 7, 2, 1, 5, 1, 0, 2, 4, 9, 3, 4, 7, 0, 3, 2, 8, 6, 8, 2, 8, 2, 3, 7, 1, 7, 7, 0, 7, 5, 3, 0, 5, 6, 2, 0, 4, 3, 5, 3, 8, 2, 0, 6, 3, 1, 6, 9, 8, 4, 7, 9, 6, 3, 5, 3, 3, 8, 5, 5, 3, 8, 8, 7, 7, 0, 6, 8, 8, 1, 0, 3, 5, 7, 6, 8, 9, 9, 6, 2, 9, 8, 3, 8, 9, 6, 2, 0, 3, 3, 3, 9, 7, 8, 5, 2, 2, 5, 4, 3, 5, 8, 0, 4, 3, 4, 7, 1, 1, 8, 7, 1, 0, 6, 8, 3, 8, 1, 9, 8, 8, 0, 3, 5, 1, 2, 1, 1, 5, 5, 3, 8, 8, 8, 5, 9, 6, 4, 8, 4, 3, 1, 6, 9, 3, 6, 4, 4, 4, 0, 0, 0, 1, 0, 6, 2, 0, 6, 4, 7, 7, 8, 7, 7, 1, 7, 9, 3, 1, 1, 3, 0, 7, 5, 6, 8, 3, 2, 4, 6, 9, 5, 5, 5, 7, 2, 1, 2, 0, 0, 2, 3, 6, 0, 3, 0, 3, 2, 7, 8, 6, 8, 7, 9, 2, 8, 1, 8, 3, 6, 6, 0, 8, 5, 5, 0, 1, 3, 3, 5, 0, 1, 5, 0, 9, 4, 5, 8, 4, 9, 3, 2, 3, 5, 9, 1, 8, 9, 1, 4, 2, 9, 8, 7, 1, 3, 0, 4, 5, 6, 3, 2, 8, 9, 9, 5, 9, 0, 8, 8, 0, 8, 9, 3, 2, 9, 9, 8, 5, 1, 3, 6, 9, 4, 8, 3, 9, 5, 9, 0, 5, 3, 0, 7, 8, 2, 3, 2, 2, 6, 3, 6, 3, 3, 3, 2, 6, 7, 3, 6, 3, 2, 7, 0, 4, 7, 4, 0, 3, 9, 8, 1, 0, 9, 6, 3, 2, 1, 1, 8, 9, 3, 1, 4, 3, 9, 1, 4, 2, 7, 8, 6, 5, 6, 6, 1, 6, 5, 7, 8, 8, 9, 5, 3, 0, 8, 8, 5, 6, 3, 0, 7, 4, 1, 0, 0, 7, 4, 5, 2, 1, 8, 3, 0, 6, 8, 2, 8, 8, 2, 0, 1, 7, 5, 6, 6, 3, 2, 3, 2, 2, 0, 5, 1, 3, 5, 8, 2, 3, 5, 1, 5, 3, 3, 1, 2, 4, 8, 3, 3, 9, 1, 5, 3, 7, 0, 2, 4, 2, 5, 2, 9, 8, 9, 3, 1, 3, 3, 2, 7, 4, 8, 7, 5, 8, 7, 1, 0, 0, 9, 7, 5, 7, 8, 6, 2, 4, 2, 9, 8, 3, 6, 1, 0, 2, 8, 4, 7, 6, 4, 3, 2, 5, 0, 6, 4, 6, 3, 7, 8, 5, 5, 6, 3, 3, 9, 7, 8, 3, 6, 4, 1, 6, 2, 5, 4, 1, 0, 7, 8, 6, 0, 9, 8, 8, 3, 9, 4, 3, 7, 2, 9, 7, 5, 7, 6, 4, 8, 3, 3, 1, 7, 9, 0, 9, 6, 3, 6, 5, 9, 3, 4, 4, 1, 6, 3, 6, 8, 0, 4, 0, 0, 4, 5, 5, 3, 5, 9, 2, 5, 4, 2, 3, 4, 7, 9, 5, 3, 4, 6, 4, 7, 5, 3, 6, 4, 5, 6, 4, 3, 5, 3, 4, 3, 8, 9, 3, 1, 5, 0, 0, 4, 6, 6, 5, 8, 9, 2, 4, 0, 6, 5, 7, 0, 2, 3, 0, 4, 3, 3, 7, 9, 6, 0, 8, 2, 9, 7, 5, 8, 6, 3, 8, 3, 3, 3, 8, 5, 6, 7, 4, 3, 6, 9, 1, 9, 0, 9, 5, 8, 0, 9, 1, 2, 8, 0, 3, 2, 5, 2, 5, 6, 7, 3, 9, 3, 1, 0, 6, 4, 9, 4, 3, 3, 0, 3, 9, 5, 6, 4, 3, 5, 3, 5, 1, 1, 6, 1, 7, 6, 6, 5, 2, 9, 4, 5, 7, 5, 1, 3, 3, 6, 6, 9, 8, 1, 3, 5, 2, 6, 3, 3, 6, 0, 5, 0, 0, 9, 2, 7, 7, 3, 3, 3, 2, 1, 3, 3, 3, 1, 0, 7, 9, 0, 2, 3, 3, 6, 2, 0, 3, 6, 6, 5, 5, 0, 7, 3, 7, 9, 9, 0, 3, 1, 2, 6, 1, 8, 4, 4, 7, 0, 2, 5, 0, 3, 0, 9, 9, 2, 2, 2, 4, 0, 6, 2, 8, 9, 8, 5, 5, 3, 4, 3, 8, 6, 3, 1, 1, 0, 6, 9, 2, 2, 4, 0, 3, 3, 9, 3, 1, 9, 9, 7, 1, 0, 6, 5, 3, 3, 8, 0, 3, 2, 4, 9, 9, 1, 0, 0, 9, 4, 4, 9, 8, 9, 0, 1, 5, 0, 7, 4, 2, 8, 8, 5, 3, 6, 1, 3, 1, 7, 6, 5, 9, 5, 4, 5, 2, 7, 6, 5, 8, 5, 3, 0, 4, 5, 8, 2, 3, 4, 4, 3, 4, 2, 7, 3, 1, 6, 0, 9, 0, 9, 4, 5, 1, 8, 4, 9, 4, 2, 6, 3, 3, 3, 6, 5, 4, 6, 7, 5, 9, 5, 6, 2, 8, 5, 5, 0, 2, 5, 2, 3, 8, 6, 3, 2, 7, 8, 4, 4, 8, 8, 8, 0, 8, 9, 5, 3, 6, 0, 7, 4, 6, 8, 2, 2, 5, 2, 4, 5, 7, 7, 2, 4, 9, 0, 8, 3, 1, 1, 2, 7, 0, 9, 8, 2, 2, 2, 0, 3, 0, 4, 6, 7, 3, 1, 9, 8, 8, 1, 3, 2, 2, 6, 8, 3, 3, 0, 0, 1, 6, 6, 7, 1, 3, 1, 4, 8, 3, 5, 1, 0, 5, 3, 3, 5, 6, 1, 4, 4, 9, 6, 2, 7, 3, 6, 4, 1, 0, 9, 1, 0, 3, 1, 9, 1, 6, 5, 2, 4, 7, 0, 4, 5, 2, 3, 4, 2, 0, 0, 5, 9, 9, 7, 7, 4, 8, 2, 1, 8, 4, 3, 2, 0, 2, 4, 2, 5, 0, 8, 5, 8, 4, 2, 3, 8, 9, 9, 6, 8, 8, 1, 9, 6, 4, 7, 6, 7, 7, 7, 2, 8, 2, 7, 2, 8, 8, 3, 5, 0, 6, 4, 8, 5, 8, 2, 5, 6, 7, 6, 7, 1, 7, 1, 1, 7, 9, 1, 5, 4, 6, 0, 2, 5, 4, 2, 0, 2, 6, 4, 0, 6, 1, 7, 8, 0, 3, 8, 0, 8, 7, 8, 3, 9, 5, 1, 9, 0, 4, 8, 9, 0, 1, 9, 4, 6, 7, 3, 3, 3, 2, 6, 1, 5, 2, 6, 2, 9, 3, 1, 6, 6, 6, 8, 6, 0, 3, 3, 1, 5, 6, 7, 9, 2, 0, 2, 9, 6, 7, 5, 7, 2, 4, 3, 6, 8, 4, 4, 3, 0, 4, 4, 1, 9, 8, 9, 6, 0, 9, 1, 1, 3, 0, 7, 2, 2, 8, 6, 6, 4, 3, 2, 6, 8, 4, 3, 3, 2, 3, 0, 6, 1, 7, 5, 1, 1, 3, 7, 9, 3, 3, 1, 6, 4, 8, 3, 6, 7, 3, 5, 3, 7, 5, 5, 0, 4, 3, 3, 3, 0, 3, 1, 8, 4, 2, 5, 2, 3, 2, 4, 9, 6, 9, 5, 3, 5, 3, 3, 2, 8, 2, 3, 5, 4, 8, 3, 3, 7, 3, 6, 5, 1, 4, 6, 3, 2, 8, 3, 2, 5, 8, 9, 8, 9, 1, 5, 9, 3, 4, 7, 8, 8, 5, 4, 5, 7, 3, 1, 9, 2, 5, 2, 2, 4, 4, 6, 3, 5, 7, 2, 1, 1, 9, 6, 3, 8, 8, 3, 0, 3, 1, 2, 3, 8, 5, 2, 8, 3, 2, 9, 7, 1, 6, 2, 6, 9, 7, 2, 5, 0, 4, 1, 7, 2, 5, 3, 3, 8, 5, 6, 0, 1, 2, 7, 4, 1, 5, 3, 4, 7, 2, 2, 4, 3, 9, 3, 2, 8, 8, 5, 3, 8, 7, 3, 1, 3, 2, 8, 8, 0, 4, 0, 9, 7, 7, 7, 3, 1, 3, 2, 6, 7, 5, 7, 6, 8, 2, 1, 3, 9, 0, 8, 5, 1, 0, 5, 7, 2, 9, 8, 3, 6, 1, 3, 3, 9, 9, 5, 9, 8, 7, 7, 4, 1, 9, 3, 4, 9, 3, 4, 6, 8, 6, 8, 8, 9, 1, 2, 0, 3, 7, 6, 6, 1, 4, 7, 1, 1, 5, 2, 8, 5, 2, 6, 7, 1, 2, 3, 9, 3, 3, 5, 4, 3, 6, 0, 1, 3, 0, 8, 9, 6, 0, 3, 1, 0, 0, 3, 3, 9, 4, 2, 0, 2, 2, 7, 6, 0, 4, 2, 1, 5, 3, 3, 4, 5, 5, 3, 2, 4, 8, 5, 3, 5, 5, 2, 6, 8, 3, 2, 5, 5, 3, 9, 1, 3, 2, 5, 4, 6, 7, 3, 9, 6, 0, 9, 4, 9, 5, 9, 8, 4, 0, 1, 5, 3, 4, 0, 6, 5, 3, 9, 8, 4, 1, 2, 5, 1, 0, 2, 8, 3, 8, 4, 6, 5, 3, 7, 4, 7, 5, 1, 7, 3, 0, 5, 4, 9, 3, 0, 7, 3, 9, 7, 8, 4, 9, 3, 3, 1, 7, 6, 5, 2, 0, 5, 2, 3, 4, 0, 3, 3, 0, 3, 0, 0, 5, 9, 5, 3, 0, 4, 1, 9, 7, 4, 0, 3, 8, 2, 3, 3, 5, 8, 2, 9, 5, 5, 8, 8, 3, 3, 9, 3, 0, 0, 5, 6, 2, 2, 6, 9, 8, 4, 1, 0, 8, 9, 2, 2, 3, 6, 8, 3, 6, 8, 2, 2, 3, 4, 0, 1, 9, 1, 6, 1, 6, 5, 9, 5, 8, 4, 3, 7, 2, 3, 8, 4, 6, 6, 5, 8, 1, 8, 5, 0, 2, 3, 7, 5, 3, 4, 6, 2, 9, 8, 7, 9, 2, 3, 7, 2, 6, 1, 9, 0, 2, 2, 2, 1, 0, 9, 2, 0, 1, 1, 0, 1, 0, 2, 0, 9, 8, 8, 5, 2, 3, 5, 5, 5, 0, 6, 8, 2, 2, 4, 3, 5, 4, 3, 3, 8, 9, 5, 8, 2, 7, 0, 2, 7, 3, 6, 3, 5, 3, 1, 1, 7, 1, 3, 1, 9, 7, 2, 0, 4, 9, 2, 4, 0, 0, 2, 9, 0, 6, 9, 8, 9, 3, 6, 6, 9, 0, 5, 3, 3, 9, 2, 4, 5, 6, 1, 5, 3, 5, 8, 0, 5, 4, 4, 3, 4, 0, 8, 9, 8, 1, 4, 3, 5, 9, 2, 4, 7, 5, 7, 8, 1, 5, 1, 7, 4, 2, 1, 6, 0, 5, 8, 3, 3, 5, 4, 1, 2, 2, 2, 5, 1, 3, 5, 0, 3, 2, 7, 0, 4, 0, 0, 1, 6, 2, 0, 2, 3, 5, 3, 6, 6, 7, 8, 3, 6, 7, 3, 5, 6, 3, 3, 8, 0, 2, 5, 3, 0, 9, 3, 6, 3, 0, 3, 8, 3, 4, 3, 3, 6, 5, 4, 6, 2, 5, 9, 0, 6, 0, 6, 3, 7, 5, 8, 0, 1, 1, 8, 9, 7, 3, 0, 9, 0, 2, 3, 8, 6, 6, 9, 8, 7, 3, 1, 6, 9, 7, 6, 2, 1, 3, 3, 0, 1, 4, 0, 3, 3, 0, 3, 2, 3, 0, 0, 5, 2, 3, 9, 3, 0, 9, 1, 2, 1, 3, 4, 1, 1, 6, 6, 3, 3, 5, 2, 6, 9, 8, 8, 5, 4, 3, 0, 3, 2, 5, 1, 2, 3, 2, 1, 3, 3, 0, 9, 3, 7, 1, 0, 6, 4, 3, 4, 0, 0, 9, 5, 6, 1, 2, 9, 4, 0, 5, 3, 8, 7, 6, 6, 5, 0, 2, 0, 9, 6, 6, 6, 0, 9, 7, 5, 0, 8, 3, 3, 1, 1, 2, 6, 9, 9, 0, 9, 5, 4, 3, 3, 3, 8, 6, 7, 2, 2, 8, 6, 7, 5, 4, 3, 5, 7, 3, 3, 3, 5, 3, 1, 1, 1, 7, 3, 3, 8, 9, 5, 5, 5, 1, 8, 0, 6, 8, 5, 3, 0, 0, 8, 9, 5, 9, 3, 9, 5, 3, 9, 2, 6, 5, 0, 6, 3, 7, 0, 7, 9, 7, 8, 9, 3, 7, 3, 3, 6, 5, 5, 0, 1, 9, 3, 2, 9, 4, 9, 5, 0, 9, 1, 3, 2, 8, 9, 1, 3, 9, 2, 9, 1, 0, 3, 3, 8, 7, 3, 3, 1, 0, 2, 8, 7, 7, 9, 6, 8, 8, 5, 3, 7, 8, 4, 2, 3, 3, 3, 0, 4, 7, 2, 8, 5, 2, 0, 7, 8, 8, 5, 7, 9, 5, 3, 0, 9, 7, 4, 3, 2, 0, 6, 8, 1, 0, 4, 3, 7, 3, 2, 6, 6, 3, 5, 0, 8, 1, 1, 9, 1, 3, 4, 3, 9, 6, 6, 5, 5, 4, 4, 3, 5, 1, 5, 5, 0, 9, 6, 8, 3, 3, 3, 9, 6, 7, 0, 0, 6, 5, 0, 6, 3, 6, 0, 5, 9, 4, 0, 5, 2, 9, 8, 0, 1, 6, 8, 3, 5, 1, 0, 3, 5, 9, 5, 8, 3, 6, 9, 3, 6, 3, 1, 2, 4, 0, 9, 8, 8, 7, 7, 5, 6, 6, 6, 6, 1, 3, 3, 4, 4, 3, 6, 8, 1, 1, 0, 4, 0, 3, 6, 0, 5, 4, 4, 9, 8, 3, 7, 3, 2, 3, 5, 5, 9, 3, 1, 3, 2, 5, 3, 6, 4, 5, 1, 6, 2, 5, 7, 3, 0, 6, 8, 6, 5, 2, 8, 9, 0, 7, 0, 5, 3, 6, 2, 7, 7, 7, 3, 0, 9, 3, 9, 1, 6, 4, 3, 0, 6, 8, 3, 8, 6, 8, 2, 3, 0, 6, 3, 1, 8, 2, 3, 8, 5, 7, 7, 4, 1, 3, 3, 2, 6, 6, 4, 5, 3, 3, 1, 3, 9, 5, 0, 3, 3, 5, 2, 6, 5, 5, 6, 7, 2, 4, 5, 5, 8, 1, 7, 5, 1, 6, 0, 3, 9, 7, 3, 1, 2, 1, 9, 0, 7, 0, 1, 8, 3, 5, 6, 7, 6, 8, 5, 8, 3, 9, 0, 8, 0, 1, 3, 8, 2, 9, 0, 5, 3, 3, 8, 5, 5, 9, 0, 3, 0, 2, 0, 7, 6, 2, 5, 9, 6, 1, 0, 8, 4, 3, 8, 7, 7, 5, 3, 2, 0, 2, 5, 2, 6, 9, 3, 1, 0, 8, 3, 0, 1, 4, 4, 3, 7, 3, 3, 6, 8, 9, 8, 0, 3, 7, 3, 3, 7, 9, 9, 9, 8, 3, 3, 9, 3, 8, 5, 3, 6, 7, 6, 0, 5, 6, 5, 9, 9, 7, 8, 2, 5, 0, 1, 9, 3, 3, 1, 1, 9, 7, 4, 6, 9, 4, 5, 3, 8, 8, 3, 7, 5, 5, 5, 3, 8, 9, 6, 2, 0, 5, 9, 3, 3, 3, 4, 3, 1, 6, 2, 0, 8, 0, 2, 0, 4, 7, 5, 1, 3, 9, 7, 7, 8, 3, 5, 2, 2, 7, 2, 8, 5, 6, 3, 4, 8, 7, 3, 0, 5, 6, 8, 8, 3, 6, 8, 3, 6, 9, 5, 2, 3, 0, 6, 3, 9, 7, 1, 8, 1, 5, 8, 5, 1, 3, 2, 8, 1, 2, 8, 3, 1, 0, 0, 3, 9, 9, 1, 9, 0, 1, 6, 0, 3, 3, 3, 5, 7, 8, 3, 1, 7, 2, 0, 5, 0, 2, 3, 3, 6, 6, 5, 7, 3, 1, 2, 3, 7, 1, 5, 3, 1, 9, 0, 7, 3, 8, 0, 8, 4, 5, 6, 3, 3, 2, 0, 7, 5, 1, 6, 1, 7, 3, 4, 3, 8, 3, 3, 1, 3, 2, 2, 0, 3, 3, 5, 7, 4, 9, 3, 7, 8, 1, 3, 6, 8, 1, 3, 6, 9, 7, 7, 3, 4, 0, 5, 5, 8, 0, 9, 3, 0, 8, 5, 0, 0, 3, 8, 7, 0, 3, 7, 1, 9, 3, 1, 3, 6, 8, 3, 2, 0, 7, 5, 8, 7, 2, 0, 3, 0, 0, 5, 9, 4, 5, 1, 6, 6, 3, 1, 0, 2, 3, 3, 3, 3, 5, 1, 8, 1, 9, 3, 9, 2, 7, 5, 6, 8, 2, 1, 1, 6, 6, 6, 2, 1, 1, 2, 0, 6, 5, 5, 5, 0, 4, 7, 9, 9, 3, 9, 7, 5, 5, 7, 5, 5, 4, 7, 4, 6, 3, 0, 0, 6, 3, 9, 3, 9, 0, 3, 3, 3, 0, 8, 0, 1, 7, 8, 1, 0, 2, 0, 8, 3, 0, 6, 9, 5, 2, 8, 6, 4, 7, 3, 8, 9, 5, 9, 2, 5, 4, 6, 7, 8, 7, 8, 5, 3, 3, 6, 3, 3, 1, 8, 6, 3, 9, 4, 9, 1, 6, 3, 9, 5, 8, 9, 1, 4, 5, 3, 4, 2, 0, 6, 5, 8, 4, 0, 3, 0, 8, 9, 9, 0, 3, 2, 7, 4, 1, 6, 5, 8, 1, 3, 9, 0, 1, 2, 3, 6, 9, 2, 0, 0, 3, 5, 3, 6, 0, 4, 1, 5, 2, 6, 8, 9, 7, 3, 7, 7, 0, 1, 5, 7, 7, 2, 6, 7, 6, 4, 9, 2, 5, 7, 4, 8, 7, 9, 2, 2, 5, 3, 0, 5, 8, 3, 0, 9, 3, 2, 7, 5, 3, 8, 7, 1, 1, 9, 4, 2, 3, 8, 9, 6, 2, 2, 3, 1, 9, 9, 1, 6, 9, 1, 7, 7, 9, 6, 6, 2, 1, 2, 9, 9, 7, 5, 3, 0, 1, 6, 9, 7, 6, 6, 5, 4, 0, 2, 0, 5, 7, 5, 8, 0, 7, 8, 7, 3, 3, 5, 1, 7, 4, 1, 8, 5, 7, 0, 1, 0, 2, 3, 3, 6, 4, 0, 3, 6, 7, 5, 2, 5, 7, 3, 4, 6, 6, 3, 2, 7, 4, 3, 6, 6, 5, 4, 4, 3, 7, 7, 5, 7, 3, 6, 8, 2, 0, 1, 3, 1, 4, 4, 3, 4, 0, 6, 5, 4, 6, 9, 0, 3, 2, 7, 6, 7, 5, 2, 1, 3, 8, 3, 9, 1, 2, 1, 7, 6, 4, 0, 3, 3, 1, 2, 9, 1, 0, 5, 3, 3, 5, 8, 3, 8, 9, 9, 5, 9, 1, 7, 0, 8, 6, 7, 7, 0, 7, 6, 4, 9, 0, 0, 7, 6, 7, 3, 3, 8, 7, 5, 7, 7, 1, 4, 0, 8, 8, 7, 7, 1, 7, 2, 3, 1, 6, 3, 3, 9, 3, 1, 6, 3, 3, 8, 7, 3, 3, 2, 2, 0, 2, 3, 7, 2, 4, 2, 4, 7, 7, 0, 9, 9, 0, 9, 7, 7, 7, 3, 5, 7, 0, 3, 8, 7, 0, 3, 6, 1, 7, 2, 3, 7, 8, 9, 3, 7, 3, 2, 7, 1, 6, 3, 4, 5, 3, 1, 8, 6, 8, 7, 3, 1, 7, 6, 0, 1, 8, 5, 7, 3, 7, 2, 2, 2, 8, 8, 0, 3, 7, 8, 5, 4, 3, 6, 0, 3, 1, 0, 9, 0, 3, 2, 1, 1, 5, 2, 2, 6, 0, 9, 4, 7, 8, 8, 6, 7, 7, 2, 8, 2, 5, 3, 3, 2, 3, 9, 8, 6, 7, 5, 2, 3, 3, 6, 8, 2, 5, 4, 9, 6, 2, 0, 3, 5, 7, 3, 8, 1, 8, 9, 3, 7, 5, 3, 9, 5, 0, 4, 7, 7, 6, 9, 2, 2, 8, 3, 0, 9, 2, 2, 6, 9, 1, 6, 2, 0, 1, 5, 3, 8, 3, 3, 2, 8, 6, 3, 8, 3, 6, 0, 4, 4, 0, 6, 6, 0, 1, 2, 1, 3, 8, 0, 5, 6, 0, 5, 4, 8, 5, 4, 6, 2, 8, 2, 1, 8, 8, 5, 1, 9, 1, 3, 2, 4, 0, 6, 0, 5, 0, 8, 1, 9, 3, 3, 5, 5, 4, 5, 4, 8, 5, 1, 8, 0, 5, 5, 3, 5, 4, 2, 7, 3, 5, 5, 7, 7, 2, 1, 8, 7, 0, 3, 7, 3, 7, 3, 6, 3, 4, 4, 6, 0, 2, 2, 7, 0, 4, 0, 3, 0, 8, 5, 8, 0, 9, 2, 1, 3, 9, 6, 2, 3, 5, 7, 6, 8, 2, 9, 9, 7, 9, 5, 0, 1, 3, 3, 9, 8, 1, 6, 4, 3, 7, 0, 2, 9, 9, 8, 3, 7, 2, 5, 3, 7, 8, 5, 5, 6, 3, 5, 3, 2, 0, 6, 7, 7, 3, 3, 5, 9, 6, 5, 6, 6, 6, 6, 2, 5, 9, 1, 7, 8, 7, 1, 0, 5, 9, 3, 5, 3, 9, 3, 1, 3, 6, 7, 1, 1, 2, 1, 9, 5, 7, 0, 3, 0, 7, 5, 7, 7, 4, 0, 2, 5, 6, 3, 9, 3, 4, 2, 0, 5, 6, 8, 5, 3, 3, 5, 4, 9, 0, 3, 6, 1, 1, 7, 2, 3, 6, 0, 0, 5, 3, 7, 9, 9, 8, 8, 5, 8, 7, 4, 2, 4, 5, 7, 6, 8, 3, 7, 3, 8, 0, 3, 3, 3, 1, 8, 9, 9, 0, 9, 5, 6, 8, 0, 3, 3, 2, 6, 2, 0, 3, 9, 2, 5, 1, 5, 9, 3, 5, 4, 5, 2, 5, 0, 3, 3, 3, 7, 3, 3, 4, 3, 3, 0, 8, 2, 2, 8, 1, 4, 5, 2, 2, 2, 6, 2, 3, 5, 3, 4, 3, 2, 4, 4, 0, 2, 4, 5, 2, 3, 7, 0, 9, 9, 9, 4, 2, 2, 8, 3, 9, 4, 0, 2, 4, 5, 8, 3, 4, 0, 9, 0, 6, 4, 8, 8, 8, 1, 5, 4, 9, 2, 1, 5, 6, 6, 6, 8, 9, 3, 1, 4, 3, 3, 3, 0, 2, 2, 8, 7, 8, 9, 8, 6, 4, 9, 1, 4, 8, 0, 9, 4, 9, 6, 7, 6, 4, 3, 0, 3, 5, 9, 3, 6, 1, 0, 9, 7, 8, 2, 3, 8, 3, 8, 1, 3, 7, 3, 3, 3, 2, 3, 9, 4, 5, 8, 3, 5, 3, 7, 4, 3, 1, 1, 6, 5, 6, 2, 1, 9, 0, 3, 8, 6, 1, 0, 4, 3, 9, 4, 6, 9, 8, 6, 3, 2, 1, 8, 6, 9, 8, 8, 7, 9, 6, 1, 0, 2, 1, 7, 8, 4, 2, 4, 3, 7, 4, 3, 1, 0, 1, 4, 8, 7, 3, 0, 4, 2, 0, 9, 1, 2, 0, 5, 2, 2, 9, 3, 1, 5, 4, 6, 6, 2, 8, 4, 3, 0, 0, 6, 4, 4, 0, 3, 3, 0, 6, 6, 3, 4, 3, 1, 9, 2, 4, 3, 5, 0, 5, 4, 4, 6, 0, 3, 6, 1, 1, 3, 2, 8, 3, 6, 2, 2, 3, 1, 3, 8, 6, 0, 3, 0, 6, 2, 0, 1, 9, 4, 5, 3, 5, 3, 6, 3, 3, 4, 7, 8, 9, 1, 7, 3, 3, 3, 1, 9, 7, 3, 1, 5, 5, 6, 5, 2, 9, 1, 3, 3, 5, 8, 5, 8, 7, 4, 5, 5, 0, 2, 0, 8, 0, 7, 5, 0, 8, 7, 4, 6, 5, 5, 5, 4, 0, 0, 0, 7, 5, 5, 3, 3, 9, 8, 0, 6, 9, 3, 5, 5, 2, 6, 9, 6, 0, 5, 2, 7, 6, 5, 9, 9, 3, 3, 3, 1, 9, 2, 1, 7, 3, 7, 4, 6, 1, 1, 3, 5, 2, 7, 5, 0, 1, 7, 2, 3, 2, 3, 3, 0, 7, 3, 2, 3, 0, 1, 0, 4, 5, 7, 2, 4, 7, 9, 2, 0, 6, 3, 3, 3, 1, 7, 9, 5, 1, 6, 1, 2, 4, 2, 2, 5, 6, 3, 8, 0, 4, 2, 4, 4, 6, 0, 4, 4, 2, 6, 3, 7, 8, 7, 9, 0, 9, 4, 3, 9, 0, 1, 8, 3, 2, 5, 2, 7, 4, 3, 4, 0, 3, 1, 0, 9, 3, 3, 8, 6, 3, 1, 2, 7, 5, 2, 5, 7, 4, 3, 4, 0, 1, 2, 9, 3, 6, 4, 2, 4, 8, 9, 1, 3, 3, 6, 3, 3, 7, 4, 1, 0, 3, 8, 4, 8, 5, 1, 3, 0, 5, 3, 3, 3, 3, 0, 3, 4, 8, 3, 3, 3, 3, 1, 2, 6, 2, 8, 9, 2, 3, 0, 3, 2, 7, 8, 5, 0, 3, 7, 7, 1, 8, 0, 1, 1, 5, 7, 1, 7, 0, 3, 0, 3, 3, 5, 3, 3, 8, 9, 9, 6, 6, 3, 9, 8, 4, 3, 5, 1, 0, 8, 2, 2, 1, 3, 4, 5, 7, 3, 3, 5, 1, 8, 4, 9, 5, 3, 6, 5, 2, 1, 0, 0, 0, 3, 5, 6, 3, 2, 3, 3, 0, 8, 8, 0, 2, 0, 3, 3, 7, 5, 3, 4, 5, 6, 1, 8, 6, 1, 7, 5, 7, 6, 6, 3, 4, 4, 2, 3, 0, 0, 8, 5, 3, 9, 2, 0, 4, 9, 8, 6, 7, 4, 6, 4, 6, 8, 6, 1, 5, 3, 0, 1, 0, 2, 9, 5, 6, 3, 3, 6, 5, 1, 8, 4, 7, 0, 8, 6, 5, 0, 0, 0, 3, 9, 3, 3, 0, 2, 5, 5, 7, 3, 7, 5, 7, 6, 1, 5, 4, 7, 9, 8, 3, 4, 0, 1, 2, 5, 9, 7, 1, 0, 3, 9, 5, 1, 4, 1, 3, 2, 7, 0, 1, 2, 8, 5, 5, 0, 7, 2, 7, 9, 6, 0, 8, 0, 6, 4, 8, 5, 2, 1, 7, 2, 3, 4, 5, 5, 3, 4, 1, 0, 7, 8, 0, 1, 0, 7, 9, 1, 5, 2, 0, 5, 0, 3, 4, 8, 1, 3, 1, 8, 0, 0, 3, 0, 5, 9, 6, 8, 6, 8, 8, 3, 0, 4, 2, 5, 9, 5, 0, 2, 8, 4, 0, 4, 1, 7, 3, 1, 2, 9, 3, 2, 2, 0, 0, 2, 7, 8, 6, 5, 3, 0, 3, 3, 5, 9, 4, 5, 4, 8, 6, 9, 2, 4, 6, 6, 3, 3, 1, 3, 9, 0, 3, 8, 0, 5, 3, 9, 0, 3, 8, 5, 8, 3, 7, 7, 5, 7, 4, 7, 4, 1, 3, 7, 8, 6, 0, 5, 3, 8, 8, 9, 5, 0, 9, 3, 3, 7, 6, 3, 6, 9, 4, 3, 1, 3, 7, 3, 2, 3, 5, 7, 1, 6, 0, 8, 0, 3, 1, 6, 7, 8, 5, 0, 8, 0, 7, 7, 9, 0, 1, 1, 8, 1, 5, 9, 8, 1, 7, 8, 1, 3, 1, 7, 0, 9, 5, 1, 8, 2, 8, 7, 4, 7, 3, 4, 7, 0, 4, 1, 0, 8, 3, 9, 6, 5, 3, 1, 3, 7, 5, 3, 5, 2, 7, 5, 5, 1, 3, 9, 1, 0, 5, 1, 0, 1, 8, 5, 5, 2, 6, 2, 4, 2, 3, 1, 8, 3, 4, 4, 3, 3, 0, 8, 9, 3, 0, 4, 0, 5, 5, 8, 5, 2, 8, 3, 8, 6, 0, 4, 0, 6, 8, 1, 7, 6, 3, 0, 5, 4, 0, 3, 7, 4, 2, 0, 9, 4, 8, 1, 3, 1, 4, 2, 2, 0, 6, 8, 8, 5, 8, 3, 8, 4, 4, 8, 3, 7, 7, 2, 2, 9, 4, 3, 1, 1, 3, 6, 0, 7, 0, 3, 7, 8, 7, 3, 4, 1, 8, 9, 3, 3, 1, 7, 8, 5, 7, 1, 4, 3, 6, 5, 4, 8, 3, 3, 3, 8, 0, 7, 9, 4, 1, 0, 1, 5, 3, 5, 9, 3, 4, 2, 2, 3, 3, 1, 9, 1, 3, 3, 3, 4, 3, 6, 9, 0, 4, 3, 5, 5, 6, 5, 3, 3, 4, 8, 4, 2, 2, 0, 1, 5, 5, 7, 2, 5, 9, 8, 0, 3, 7, 5, 2, 4, 7, 9, 3, 2, 8, 5, 8, 2, 9, 5, 2, 5, 1, 3, 7, 1, 9, 9, 2, 4, 1, 6, 9, 2, 9, 8, 4, 5, 2, 0, 0, 7, 8, 9, 3, 3, 5, 3, 9, 3, 8, 0, 2, 6, 0, 8, 0, 4, 8, 8, 9, 5, 8, 2, 6, 3, 9, 6, 3, 5, 5, 5, 7, 4, 9, 7, 6, 2, 9, 4, 5, 5, 6, 6, 0, 1, 2, 8, 2, 5, 5, 9, 3, 5, 9, 2, 9, 8, 8, 1, 3, 7, 3, 9, 1, 0, 5, 5, 9, 1, 2, 4, 0, 0, 5, 6, 1, 2, 3, 4, 5, 3, 9, 8, 9, 7, 4, 0, 6, 8, 8, 8, 9, 7, 6, 1, 3, 9, 3, 6, 2, 5, 3, 7, 3, 6, 2, 8, 0, 7, 3, 5, 0, 6, 3, 6, 4, 3, 2, 6, 1, 5, 3, 8, 2, 3, 0, 3, 7, 6, 1, 0, 2, 5, 0, 2, 0, 6, 7, 3, 8, 4, 0, 1, 5, 1, 0, 6, 4, 2, 0, 0, 8, 3, 3, 8, 1, 2, 3, 1, 9, 7, 4, 9, 6, 8, 4, 5, 1, 2, 6, 6, 0, 0, 2, 7, 1, 2, 6, 3, 6, 3, 0, 5, 4, 8, 5, 9, 9, 0, 9, 2, 5, 6, 1, 8, 3, 3, 7, 4, 3, 1, 5, 4, 2, 2, 3, 4, 5, 2, 9, 9, 4, 2, 6, 7, 4, 1, 8, 0, 5, 5, 1, 3, 4, 8, 2, 8, 3, 9, 7, 0, 1, 0, 8, 1, 6, 8, 9, 5, 1, 9, 7, 7, 7, 3, 3, 3, 3, 5, 4, 3, 2, 9, 1, 2, 8, 1, 2, 3, 2, 8, 3, 8, 6, 8, 2, 3, 0, 5, 1, 3, 1, 9, 8, 3, 0, 3, 0, 5, 4, 3, 3, 8, 7, 8, 6, 1, 4, 5, 5, 1, 4, 3, 3, 3, 2, 9, 9, 3, 0, 5, 5, 0, 7, 6, 1, 9, 1, 5, 3, 9, 9, 3, 3, 3, 7, 4, 3, 5, 5, 5, 7, 2, 8, 0, 6, 6, 6, 4, 7, 1, 9, 4, 3, 0, 7, 8, 0, 3, 0, 8, 9, 2, 9, 2, 8, 8, 3, 7, 1, 5, 9, 9, 8, 0, 0, 2, 6, 3, 8, 5, 2, 2, 6, 1, 7, 3, 4, 3, 0, 6, 8, 3, 2, 8, 3, 9, 9, 6, 3, 9, 0, 2, 7, 8, 2, 8, 9, 5, 4, 0, 2, 3, 5, 9, 4, 3, 4, 1, 2, 8, 6, 4, 3, 5, 8, 0, 7, 7, 7, 1, 6, 7, 4, 3, 3, 4, 1, 3, 1, 2, 7, 2, 5, 4, 0, 8, 5, 2, 2, 2, 0, 4, 6, 5, 9, 9, 6, 3, 5, 7, 2, 2, 0, 6, 0, 4, 9, 0, 5, 3, 1, 0, 2, 9, 4, 8, 6, 8, 6, 8, 3, 6, 0, 2, 3, 7, 3, 3, 8, 2, 5, 8, 6, 6, 3, 1, 7, 8, 1, 5, 3, 4, 3, 3, 2, 3, 1, 0, 2, 9, 8, 3, 2, 6, 8, 5, 8, 9, 8, 7, 9, 6, 7, 4, 5, 3, 3, 9, 4, 5, 7, 3, 7, 7, 5, 8, 0, 7, 8, 2, 8, 1, 3, 6, 8, 2, 3, 0, 6, 8, 3, 3, 3, 8, 0, 1, 5, 6, 4, 3, 5, 9, 0, 6, 3, 4, 5, 7, 1, 6, 9, 3, 1, 9, 3, 0, 6, 6, 7, 6, 0, 1, 4, 5, 5, 1, 9, 0, 5, 3, 5, 3, 9, 9, 8, 0, 3, 3, 1, 3, 2, 9, 5, 5, 3, 2, 4, 9, 4, 7, 1, 3, 7, 1, 6, 1, 5, 7, 7, 6, 0, 2, 3, 6, 4, 0, 5, 8, 3, 1, 3, 8, 1, 2, 4, 4, 1, 3, 3, 6, 3, 5, 2, 5, 5, 8, 5, 2, 9, 6, 0, 7, 9, 4, 8, 9, 3, 4, 2, 1, 3, 9, 9, 4, 6, 1, 4, 5, 3, 9, 8, 9, 1, 9, 0, 1, 0, 2, 1, 2, 2, 9, 8, 7, 2, 6, 6, 1, 8, 7, 3, 9, 8, 9, 2, 6, 3, 3, 7, 1, 3, 7, 2, 0, 3, 0, 9, 5, 7, 3, 5, 5, 8, 6, 0, 6, 5, 3, 3, 3, 8, 2, 6, 3, 7, 5, 8, 4, 4, 6, 5, 7, 5, 7, 1, 7, 7, 1, 6, 8, 0, 6, 8, 4, 3, 1, 8, 3, 3, 3, 4, 5, 3, 5, 5, 3, 6, 2, 4, 0, 3, 4, 5, 2, 0, 9, 5, 6, 1, 3, 3, 1, 9, 5, 5, 7, 5, 8, 9, 5, 7, 5, 4, 8, 8, 0, 3, 7, 7, 2, 2, 5, 8, 5, 3, 8, 7, 7, 3, 6, 9, 4, 0, 7, 8, 5, 3, 7, 5, 5, 0, 7, 8, 6, 2, 5, 8, 2, 8, 2, 5, 2, 4, 3, 8, 5, 4, 1, 3, 4, 0, 3, 3, 0, 0, 0, 1, 6, 3, 6, 2, 0, 3, 7, 6, 0, 6, 5, 7, 0, 3, 6, 0, 4, 3, 0, 8, 6, 3, 4, 2, 5, 5, 4, 3, 4, 3, 5, 1, 1, 7, 4, 2, 0, 2, 1, 6, 3, 2, 2, 3, 2, 3, 5, 0, 7, 8, 3, 3, 5, 6, 1, 0, 1, 8, 0, 7, 5, 0, 3, 3, 5, 6, 5, 5, 8, 3, 3, 7, 0, 7, 2, 4, 3, 3, 2, 2, 7, 3, 3, 3, 0, 7, 7, 8, 4, 8, 3, 6, 9, 3, 9, 0, 4, 6, 6, 2, 2, 2, 8, 3, 0, 1, 9, 9, 3, 9, 7, 5, 7, 4, 1, 3, 3, 7, 0, 7, 7, 7, 1, 5, 0, 1, 8, 2, 6, 7, 2, 9, 2, 0, 5, 9, 7, 8, 3, 8, 3, 5, 2, 3, 7, 7, 7, 3, 6, 1, 3, 2, 1, 2, 3, 6, 8, 7, 4, 4, 1, 6, 9, 6, 8, 5, 7, 2, 0, 9, 8, 4, 1, 0, 0, 2, 3, 9, 0, 4, 4, 8, 8, 2, 8, 8, 3, 8, 0, 0, 3, 3, 3, 5, 8, 7, 0, 8, 7, 8, 7, 3, 3, 2, 5, 9, 1, 5, 3, 1, 8, 2, 4, 3, 8, 8, 7, 2, 2, 8, 8, 5, 9, 0, 3, 1, 6, 7, 5, 8, 7, 6, 3, 3, 9, 9, 1, 9, 9, 0, 0, 2, 7, 5, 7, 2, 8, 8, 2, 5, 4, 5, 6, 4, 5, 2, 8, 3, 7, 0, 8, 3, 3, 4, 0, 4, 3, 2, 2, 9, 8, 7, 2, 2, 0, 0, 3, 3, 0, 4, 1, 6, 4, 2, 2, 1, 3, 5, 0, 2, 1, 0, 0, 5, 3, 9, 6, 3, 3, 6, 1, 9, 0, 0, 1, 9, 6, 6, 5, 2, 3, 2, 2, 4, 0, 1, 2, 8, 6, 6, 3, 9, 0, 0, 3, 0, 2, 8, 5, 2, 2, 3, 6, 8, 6, 6, 6, 6, 6, 3, 2, 5, 5, 6, 3, 3, 3, 2, 5, 2, 8, 8, 6, 1, 5, 7, 1, 5, 3, 1, 9, 3, 5, 1, 7, 1, 7, 3, 5, 6, 2, 7, 3, 0, 6, 8, 5, 8, 7, 0, 4, 7, 7, 3, 9, 6, 5, 3, 3, 1, 4, 3, 6, 0, 8, 3, 3, 0, 4, 6, 2, 3, 3, 5, 6, 2, 9, 1, 2, 1, 6, 6, 1, 1, 7, 6, 2, 4, 9, 0, 2, 5, 1, 5, 8, 4, 3, 0, 3, 1, 5, 5, 2, 3, 5, 2, 5, 2, 8, 2, 5, 8, 0, 5, 1, 0, 5, 5, 0, 6, 7, 1, 2, 3, 6, 1, 5, 8, 0, 0, 1, 7, 1, 9, 1, 8, 3, 1, 8, 5, 6, 0, 8, 1, 2, 2, 7, 6, 2, 2, 7, 8, 5, 5, 0, 8, 3, 2, 5, 6, 3, 3, 9, 8, 3, 9, 7, 3, 9, 1, 4, 8, 7, 8, 2, 0, 4, 3, 7, 2, 0, 4, 8, 2, 2, 7, 0, 3, 3, 4, 8, 5, 2, 0, 2, 5, 1, 5, 9, 7, 8, 3, 5, 0, 0, 3, 8, 7, 1, 1, 8, 8, 9, 3, 5, 3, 0, 3, 9, 5, 5, 0, 7, 1, 6, 5, 3, 7, 7, 8, 1, 9, 0, 1, 4, 5, 7, 6, 4, 5, 2, 0, 2, 2, 9, 0, 3, 7, 5, 4, 1, 7, 2, 7, 8, 0, 3, 2, 8, 1, 6, 3, 4, 2, 6, 3, 8, 3, 1, 0, 3, 7, 8, 9, 0, 0, 5, 8, 2, 5, 5, 1, 8, 5, 6, 9, 7, 3, 6, 9, 1, 6, 8, 7, 4, 9, 1, 3, 3, 1, 5, 5, 6, 4, 7, 2, 2, 7, 7, 0, 8, 5, 9, 3, 2, 1, 3, 9, 6, 5, 3, 4, 2, 7, 5, 2, 6, 9, 7, 8, 6, 2, 2, 5, 5, 3, 3, 2, 8, 9, 6, 9, 0, 3, 9, 7, 0, 4, 8, 7, 3, 5, 2, 2, 0, 9, 8, 3, 3, 2, 0, 6, 0, 1, 6, 2, 5, 2, 3, 3, 2, 1, 8, 6, 1, 9, 3, 8, 8, 6, 1, 5, 3, 3, 2, 9, 3, 1, 9, 7, 8, 8, 4, 6, 9, 2, 1, 3, 3, 6, 2, 9, 0, 2, 3, 7, 8, 3, 0, 8, 2, 1, 6, 5, 7, 7, 3, 9, 4, 2, 5, 2, 2, 6, 5, 2, 9, 4, 6, 1, 7, 3, 8, 8, 3, 6, 3, 4, 0, 8, 1, 5, 3, 1, 6, 5, 2, 0, 4, 8, 0, 1, 3, 9, 3, 3, 9, 6, 8, 8, 4, 5, 0, 9, 5, 1, 1, 3, 1, 3, 7, 3, 6, 1, 4, 3, 9, 3, 9, 0, 2, 8, 0, 8, 3, 7, 9, 4, 0, 2, 4, 9, 9, 1, 3, 4, 7, 7, 3, 3, 9, 4, 1, 3, 1, 1, 8, 7, 3, 1, 5, 3, 2, 9, 4, 1, 3, 5, 0, 7, 9, 2, 9, 1, 3, 1, 0, 8, 3, 8, 3, 2, 5, 1, 7, 9, 5, 9, 3, 3, 9, 2, 3, 1, 0, 6, 6, 5, 9, 3, 5, 2, 3, 0, 2, 5, 3, 3, 1, 1, 4, 0, 5, 4, 0, 2, 8, 1, 5, 9, 6, 7, 3, 9, 7, 5, 7, 1, 2, 0, 2, 6, 7, 3, 0, 1, 4, 8, 6, 3, 2, 1, 5, 0, 9, 5, 7, 3, 1, 7, 7, 3, 6, 9, 2, 6, 9, 7, 6, 5, 8, 3, 9, 5, 3, 9, 1, 5, 5, 7, 1, 2, 8, 2, 7, 7, 8, 0, 6, 1, 6, 5, 5, 2, 8, 3, 6, 0, 3, 1, 3, 6, 0, 1, 5, 7, 3, 6, 8, 6, 9, 0, 5, 4, 3, 4, 0, 8, 4, 1, 8, 0, 2, 5, 4, 3, 6, 5, 5, 3, 8, 7, 0, 2, 3, 2, 4, 3, 1, 3, 3, 9, 3, 3, 8, 9, 9, 2, 8, 1, 6, 3, 0, 3, 8, 3, 2, 9, 6, 0, 3, 9, 6, 9, 5, 3, 8, 8, 2, 1, 0, 7, 6, 0, 1, 9, 9, 0, 8, 0, 7, 5, 2, 9, 9, 3, 9, 9, 4, 2, 4, 5, 2, 3, 1, 1, 0, 7, 8, 4, 2, 3, 5, 2, 6, 9, 5, 2, 3, 2, 3, 1, 6, 9, 7, 5, 3, 3, 8, 5, 2, 2, 6, 2, 4, 9, 2, 8, 9, 7, 3, 3, 5, 0, 3, 7, 7, 2, 6, 3, 2, 8, 3, 1, 0, 4, 3, 4, 0, 2, 5, 9, 3, 0, 6, 5, 6, 7, 3, 7, 5, 5, 0, 5, 9, 5, 9, 7, 0, 8, 7, 8, 6, 6, 4, 8, 3, 9, 3, 8, 5, 4, 9, 4, 7, 6, 3, 5, 0, 3, 3, 7, 3, 5, 5, 4, 4, 1, 1, 4, 9, 3, 2, 4, 3, 1, 3, 8, 0, 7, 5, 6, 4, 1, 8, 8, 3, 3, 8, 1, 3, 0, 0, 3, 5, 4, 4, 7, 0, 9, 8, 2, 5, 1, 2, 6, 7, 9, 5, 5, 6, 0, 2, 4, 2, 0, 3, 7, 5, 3, 4, 6, 0, 0, 9, 9, 2, 5, 1, 4, 3, 8, 2, 2, 8, 9, 0, 8, 1, 9, 1, 5, 9, 8, 0, 6, 8, 2, 7, 4, 1, 5, 0, 2, 2, 5, 5, 3, 0, 0, 8, 3, 2, 3, 3, 9, 3, 0, 0, 0, 3, 5, 3, 2, 6, 7, 7, 5, 3, 7, 2, 4, 3, 4, 9, 7, 3, 3, 9, 8, 8, 4, 1, 0, 3, 3, 7, 7, 3, 8, 2, 6, 8, 6, 9, 5, 2, 7, 4, 3, 3, 0, 6, 3, 0, 3, 0, 0, 8, 4, 3, 4, 8, 8, 4, 2, 8, 4, 3, 0, 3, 3, 3, 9, 0, 9, 3, 2, 6, 3, 7, 0, 2, 2, 8, 8, 4, 1, 4, 1, 7, 5, 6, 6, 5, 9, 8, 8, 5, 5, 3, 0, 2, 0, 7, 8, 0, 0, 4, 8, 0, 4, 0, 8, 8, 0, 2, 0, 2, 9, 0, 3, 2, 5, 4, 0, 4, 0, 6, 3, 4, 0, 3, 7, 0, 3, 3, 5, 3, 3, 9, 2, 9, 6, 4, 0, 1, 3, 6, 3, 0, 3, 3, 5, 7, 4, 6, 1, 8, 7, 7, 7, 4, 2, 0, 3, 0, 8, 4, 5, 5, 3, 5, 0, 0, 2, 4, 3, 3, 7, 7, 9, 4, 7, 9, 5, 2, 1, 5, 0, 3, 4, 9, 9, 9, 7, 4, 2, 4, 2, 2, 6, 9, 7, 8, 7, 1, 0, 0, 9, 7, 2, 7, 6, 8, 2, 1, 0, 3, 4, 9, 7, 3, 3, 1, 5, 2, 3, 3, 1, 5, 7, 3, 3, 6, 0, 4, 4, 1, 0, 3, 1, 3, 5, 9, 5, 4, 7, 5, 3, 8, 3, 8, 3, 8, 8, 5, 9, 5, 9, 1, 3, 5, 8, 4, 4, 2, 9, 8, 5, 9, 7, 8, 7, 8, 0, 1, 2, 3, 3, 3, 6, 9, 7, 3, 6, 3, 3, 3, 3, 7, 9, 1, 5, 1, 8, 3, 2, 0, 7, 8, 8, 7, 4, 7, 2, 5, 8, 8, 8, 7, 3, 3, 0, 3, 3, 6, 3, 4, 9, 6, 9, 3, 3, 8, 9, 9, 0, 0, 8, 9, 5, 3, 3, 5, 3, 9, 2, 9, 4, 9, 7, 2, 1, 1, 0, 9, 6, 4, 1, 6, 6, 5, 1, 0, 6, 0, 3, 8, 3, 1, 9, 5, 2, 3, 5, 4, 3, 8, 5, 3, 6, 6, 9, 9, 3, 0, 8, 8, 2, 3, 4, 6, 1, 9, 8, 3, 6, 9, 7, 0, 0, 9, 3, 1, 8, 1, 9, 0, 2, 9, 1, 4, 3, 3, 9, 4, 2, 8, 8, 2, 3, 6, 1, 6, 0, 4, 2, 7, 0, 3, 2, 3, 0, 1, 2, 3, 2, 0, 7, 6, 5, 3, 9, 7, 0, 9, 3, 1, 6, 7, 6, 5, 7, 8, 6, 4, 3, 0, 5, 3, 8, 8, 3, 4, 3, 8, 7, 2, 1, 4, 9, 3, 3, 3, 2, 8, 4, 1, 8, 0, 5, 2, 2, 3, 2, 7, 0, 8, 0, 5, 2, 1, 6, 1, 4, 3, 8, 6, 3, 2, 5, 4, 2, 3, 5, 2, 8, 5, 3, 7, 3, 2, 4, 3, 6, 6, 2, 9, 0, 5, 9, 5, 2, 6, 6, 6, 1, 9, 8, 4, 5, 1, 9, 6, 4, 9, 2, 9, 2, 1, 8, 0, 0, 3, 8, 8, 9, 6, 5, 9, 8, 3, 1, 4, 5, 4, 4, 5, 3, 3, 9, 3, 9, 0, 2, 3, 0, 2, 3, 4, 3, 1, 8, 6, 2, 6, 3, 4, 6, 3, 9, 0, 7, 0, 2, 7, 8, 0, 4, 2, 9, 4, 3, 5, 3, 0, 6, 9, 9, 7, 3, 3, 9, 5, 1, 1, 0, 8, 1, 1, 8, 3, 2, 9, 6, 7, 9, 9, 8, 7, 1, 5, 7, 5, 0, 5, 3, 3, 8, 8, 4, 0, 9, 5, 3, 3, 2, 8, 9, 9, 6, 5, 6, 5, 1, 0, 2, 7, 1, 7, 6, 7, 9, 9, 0, 3, 4, 7, 8, 5, 3, 0, 6, 1, 2, 3, 1, 3, 0, 3, 6, 5, 3, 8, 6, 9, 0, 3, 7, 2, 5, 3, 0, 7, 5, 0, 6, 5, 6, 3, 3, 0, 5, 0, 1, 6, 6, 9, 7, 3, 5, 3, 8, 2, 3, 5, 2, 3, 5, 3, 5, 6, 2, 7, 2, 5, 8, 4, 9, 3, 6, 9, 9, 7, 5, 5, 7, 8, 6, 2, 9, 3, 1, 5, 5, 9, 0, 0, 7, 8, 5, 2, 2, 8, 5, 7, 3, 7, 7, 8, 3, 3, 5, 0, 1, 4, 7, 8, 9, 0, 3, 5, 5, 7, 9, 2, 6, 7, 5, 3, 9, 1, 9, 9, 9, 5, 1, 0, 9, 5, 0, 0, 9, 4, 1, 0, 7, 1, 1, 8, 0, 9, 3, 9, 3, 6, 7, 4, 8, 1, 3, 5, 3, 2, 0, 0, 6, 3, 8, 0, 5, 2, 0, 1, 2, 0, 3, 4, 6, 6, 9, 4, 1, 5, 3, 1, 7, 9, 7, 8, 6, 0, 0, 3, 1, 1, 8, 7, 5, 2, 3, 8, 5, 1, 2, 0, 3, 9, 6, 9, 3, 7, 1, 3, 3, 3, 3, 7, 0, 6, 9, 2, 3, 5, 8, 0, 0, 8, 8, 6, 2, 8, 0, 6, 9, 3, 1, 3, 8, 2, 3, 3, 2, 5, 2, 5, 8, 3, 9, 2, 9, 2, 8, 7, 2, 9, 3, 4, 6, 4, 9, 5, 0, 0, 4, 9, 3, 0, 3, 6, 5, 2, 5, 9, 1, 3, 6, 7, 1, 2, 2, 1, 5, 3, 5, 3, 9, 2, 2, 1, 2, 0, 1, 0, 6, 6, 7, 8, 3, 2, 3, 5, 5, 0, 0, 3, 6, 9, 8, 3, 6, 5, 1, 1, 9, 2, 3, 7, 9, 3, 8, 5, 3, 3, 3, 3, 2, 5, 3, 2, 9, 3, 3, 7, 1, 1, 9, 2, 5, 0, 9, 3, 6, 3, 5, 9, 5, 9, 0, 1, 4, 5, 3, 7, 1, 6, 5, 4, 3, 1, 3, 1, 6, 3, 0, 8, 3, 4, 2, 6, 4, 2, 3, 9, 5, 3, 4, 9, 0, 8, 0, 5, 8, 4, 3, 7, 4, 3, 0, 9, 2, 3, 3, 2, 1, 8, 7, 8, 9, 4, 7, 1, 2, 1, 0, 6, 4, 2, 8, 0, 1, 7, 3, 4, 7, 0, 5, 0, 3, 4, 3, 0, 2, 3, 8, 8, 1, 7, 6, 3, 1, 8, 9, 4, 9, 6, 9, 6, 5, 9, 0, 0, 3, 2, 9, 1, 7, 4, 2, 0, 4, 9, 6, 3, 5, 0, 6, 9, 3, 2, 3, 5, 5, 8, 5, 8, 8, 1, 5, 6, 9, 8, 0, 3, 6, 6, 2, 9, 8, 1, 1, 8, 1, 0, 6, 3, 8, 6, 3, 8, 1, 3, 7, 9, 7, 8, 1, 8, 7, 6, 5, 2, 8, 3, 7, 5, 2, 9, 1, 3, 2, 3, 6, 6, 7, 0, 9, 0, 4, 3, 2, 8, 0, 2, 3, 5, 0, 8, 2, 3, 4, 5, 5, 5, 5, 6, 4, 3, 4, 3, 8, 9, 9, 3, 6, 6, 4, 9, 3, 8, 2, 0, 4, 9, 2, 6, 3, 8, 5, 1, 0, 0, 3, 4, 1, 2, 6, 3, 7, 0, 6, 3, 7, 9, 5, 5, 1, 3, 3, 2, 6, 3, 3, 2, 3, 2, 7, 2, 3, 4, 3, 3, 3, 1, 5, 2, 7, 2, 8, 1, 5, 8, 5, 5, 6, 3, 0, 9, 3, 2, 8, 7, 3, 2, 1, 4, 9, 1, 7, 0, 3, 0, 0, 7, 6, 1, 6, 3, 1, 4, 1, 2, 2, 6, 1, 1, 4, 6, 2, 3, 6, 3, 2, 3, 3, 7, 0, 7, 4, 3, 8, 2, 7, 3, 6, 3, 3, 6, 1, 5, 6, 2, 5, 0, 7, 3, 0, 6, 6, 3, 5, 6, 5, 8, 5, 3, 6, 1, 8, 2, 2, 2, 8, 9, 8, 4, 1, 4, 2, 9, 5, 3, 5, 3, 9, 7, 5, 3, 0, 0, 9, 9, 9, 8, 5, 7, 8, 4, 8, 2, 5, 9, 4, 8, 7, 7, 8, 6, 5, 3, 3, 1, 3, 3, 6, 3, 9, 5, 2, 7, 3, 8, 0, 0, 4, 9, 3, 3, 2, 6, 0, 1, 3, 7, 9, 9, 4, 2, 3, 3, 9, 0, 6, 8, 8, 0, 8, 1, 9, 9, 1, 0, 7, 4, 3, 0, 6, 1, 5, 5, 6, 0, 5, 4, 4, 3, 0, 6, 4, 3, 5, 3, 2, 5, 7, 8, 1, 3, 3, 2, 2, 5, 6, 3, 3, 0, 0, 7, 5, 5, 9, 2, 1, 3, 3, 3, 4, 6, 0, 9, 9, 5, 9, 3, 3, 1, 1, 0, 3, 1, 5, 3, 4, 5, 9, 9, 7, 3, 5, 9, 5, 8, 4, 3, 7, 3, 9, 0, 3, 7, 2, 9, 8, 0, 3, 0, 9, 6, 7, 8, 2, 0, 6, 0, 8, 2, 6, 2, 3, 3, 7, 1, 1, 2, 1, 4, 5, 0, 6, 6, 6, 3, 3, 2, 9, 0, 3, 0, 3, 1, 2, 6, 3, 2, 2, 7, 2, 2, 6, 1, 2, 6, 0, 8, 5, 8, 9, 9, 7, 1, 2, 3, 3, 2, 5, 8, 6, 4, 2, 2, 0, 5, 2, 3, 3, 3, 8, 3, 0, 3, 7, 9, 1, 4, 3, 8, 5, 4, 2, 5, 5, 5, 1, 9, 7, 4, 5, 1, 8, 0, 6, 4, 9, 6, 3, 3, 0, 9, 1, 8, 6, 9, 5, 7, 2, 6, 6, 6, 0, 5, 5, 4, 7, 6, 3, 9, 4, 3, 2, 3, 4, 8, 2, 9, 0, 1, 3, 5, 1, 3, 5, 2, 9, 6, 0, 2, 2, 2, 9, 0, 3, 7, 3, 1, 6, 0, 3, 8, 3, 9, 7, 7, 3, 0, 8, 7, 0, 3, 2, 2, 6, 8, 3, 0, 9, 4, 3, 3, 8, 1, 6, 5, 4, 7, 0, 6, 4, 3, 2, 2, 5, 0, 0, 9, 7, 8, 7, 7, 7, 1, 1, 8, 0, 5, 5, 1, 6, 2, 9, 3, 6, 4, 8, 6, 4, 6, 9, 2, 3, 7, 8, 2, 8, 7, 0, 0, 4, 7, 6, 0, 3, 6, 0, 7, 3, 6, 2, 3, 5, 4, 7, 5, 5, 1, 6, 5, 6, 5, 3, 1, 5, 1, 5, 7, 3, 1, 9, 9, 2, 9, 3, 3, 7, 6, 5, 6, 2, 8, 2, 5, 2, 7, 5, 9, 0, 9, 4, 4, 4, 5, 4, 5, 3, 4, 4, 4, 1, 6, 4, 2, 6, 3, 9, 7, 6, 7, 3, 1, 9, 7, 3, 4, 5, 0, 8, 7, 9, 2, 3, 1, 4, 0, 1, 0, 6, 6, 1, 5, 4, 2, 0, 3, 1, 0, 4, 7, 8, 2, 1, 5, 0, 6, 2, 6, 6, 5, 8, 5, 7, 3, 5, 5, 9, 0, 3, 0, 5, 7, 1, 2, 3, 0, 2, 6, 8, 5, 4, 6, 4, 8, 8, 7, 8, 3, 6, 3, 9, 4, 6, 5, 5, 2, 9, 8, 3, 3, 6, 8, 1, 8, 4, 3, 5, 8, 6, 8, 0, 1, 4, 9, 5, 1, 7, 5, 8, 2, 9, 6, 6, 3, 1, 8, 4, 7, 2, 8, 2, 8, 4, 8, 1, 5, 2, 3, 3, 0, 0, 6, 1, 3, 1, 0, 3, 0, 7, 3, 5, 2, 6, 3, 5, 1, 3, 8, 5, 0, 1, 1, 1, 0, 6, 5, 8, 8, 1, 4, 3, 9, 3, 4, 6, 2, 1, 2, 0, 5, 8, 9, 1, 1, 4, 9, 4, 7, 0, 3, 9, 0, 5, 1, 0, 2, 8, 4, 3, 3, 2, 1, 9, 8, 1, 4, 2, 7, 4, 9, 3, 3, 2, 4, 2, 4, 2, 8, 5, 0, 8, 0, 0, 8, 6, 1, 3, 1, 5, 5, 1, 3, 7, 9, 0, 6, 8, 3, 3, 8, 5, 1, 4, 8, 6, 9, 3, 9]\n",
            "<class 'list'>\n"
          ]
        }
      ]
    },
    {
      "cell_type": "code",
      "source": [
        "# This code below will generate kaggle_predictions.csv file.\n",
        "import pandas as pd\n",
        "if isinstance(predictions, np.ndarray):\n",
        "    predictions = predictions.astype(int)\n",
        "else:\n",
        "    predictions = np.array(predictions, dtype=int)\n",
        "print(predictions.shape)\n",
        "print(len(testing_data))\n",
        "assert predictions.shape == (len(testing_data),), \"Predictions were not the correct shape\"\n",
        "df = pd.DataFrame({'Category': predictions})\n",
        "df.index += 1  # Ensures that the index starts at 1.\n",
        "df.to_csv('submission.csv', index_label='Id')"
      ],
      "metadata": {
        "id": "POSAIwVmNzsW",
        "colab": {
          "base_uri": "https://localhost:8080/"
        },
        "outputId": "6dd53dd3-87e2-48a0-d2e7-4ef97c560726"
      },
      "execution_count": 9,
      "outputs": [
        {
          "output_type": "stream",
          "name": "stdout",
          "text": [
            "(10000,)\n",
            "10000\n"
          ]
        }
      ]
    },
    {
      "cell_type": "markdown",
      "source": [
        "# **Kaggle Prediction Accuracy: 78.6%**"
      ],
      "metadata": {
        "id": "Ftbyiz0TN6m6"
      }
    }
  ]
}