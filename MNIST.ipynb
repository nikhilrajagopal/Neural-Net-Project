{
  "nbformat": 4,
  "nbformat_minor": 0,
  "metadata": {
    "colab": {
      "provenance": [],
      "gpuType": "T4"
    },
    "kernelspec": {
      "name": "python3",
      "display_name": "Python 3"
    },
    "accelerator": "GPU"
  },
  "cells": [
    {
      "cell_type": "markdown",
      "source": [
        "**Used Google Collab for GPU acceleration in order for faster performance.**"
      ],
      "metadata": {
        "id": "cxb1bv55XRss"
      }
    },
    {
      "cell_type": "code",
      "metadata": {
        "id": "5qoJVI0RCyaH"
      },
      "source": [
        "# Imports for pytorch\n",
        "import numpy as np\n",
        "import torch\n",
        "import torchvision\n",
        "from torchvision import transforms\n",
        "from torch import nn\n",
        "import matplotlib\n",
        "from matplotlib import pyplot as plt\n",
        "from tqdm import tqdm_notebook as tqdm\n",
        "from torch.utils.data import DataLoader\n"
      ],
      "execution_count": 1,
      "outputs": []
    },
    {
      "cell_type": "code",
      "metadata": {
        "id": "LwHYcdpmG0Tq",
        "colab": {
          "base_uri": "https://localhost:8080/"
        },
        "outputId": "5e87fb12-09b2-4554-e774-e4cd9c4a99ef"
      },
      "source": [
        "# Determine the device\n",
        "device = torch.device(\"cuda\" if torch.cuda.is_available() else \"cpu\")\n",
        "print(\"Using device\", device)"
      ],
      "execution_count": 2,
      "outputs": [
        {
          "output_type": "stream",
          "name": "stdout",
          "text": [
            "Using device cuda\n"
          ]
        }
      ]
    },
    {
      "cell_type": "markdown",
      "source": [
        "# **Training Fashion MNIST Dataset**"
      ],
      "metadata": {
        "id": "AHiErRj_W5M7"
      }
    },
    {
      "cell_type": "code",
      "metadata": {
        "id": "8sSW4B4yR-G2",
        "colab": {
          "base_uri": "https://localhost:8080/"
        },
        "outputId": "5135982c-423a-4305-83bb-afc632f1e638"
      },
      "source": [
        "# Creating the datasets\n",
        "transform = torchvision.transforms.ToTensor()\n",
        "\n",
        "training_data = torchvision.datasets.FashionMNIST(\n",
        "    root=\"data\",\n",
        "    train=True,\n",
        "    download=True,\n",
        "    transform=transform,\n",
        ")\n",
        "\n",
        "validation_data = torchvision.datasets.FashionMNIST(\n",
        "    root=\"data\",\n",
        "    train=False,\n",
        "    download=True,\n",
        "    transform=transform,\n",
        ")"
      ],
      "execution_count": 3,
      "outputs": [
        {
          "output_type": "stream",
          "name": "stdout",
          "text": [
            "Downloading http://fashion-mnist.s3-website.eu-central-1.amazonaws.com/train-images-idx3-ubyte.gz\n",
            "Downloading http://fashion-mnist.s3-website.eu-central-1.amazonaws.com/train-images-idx3-ubyte.gz to data/FashionMNIST/raw/train-images-idx3-ubyte.gz\n"
          ]
        },
        {
          "output_type": "stream",
          "name": "stderr",
          "text": [
            "100%|██████████| 26421880/26421880 [00:01<00:00, 15336686.96it/s]\n"
          ]
        },
        {
          "output_type": "stream",
          "name": "stdout",
          "text": [
            "Extracting data/FashionMNIST/raw/train-images-idx3-ubyte.gz to data/FashionMNIST/raw\n",
            "\n",
            "Downloading http://fashion-mnist.s3-website.eu-central-1.amazonaws.com/train-labels-idx1-ubyte.gz\n",
            "Downloading http://fashion-mnist.s3-website.eu-central-1.amazonaws.com/train-labels-idx1-ubyte.gz to data/FashionMNIST/raw/train-labels-idx1-ubyte.gz\n"
          ]
        },
        {
          "output_type": "stream",
          "name": "stderr",
          "text": [
            "100%|██████████| 29515/29515 [00:00<00:00, 270452.17it/s]\n"
          ]
        },
        {
          "output_type": "stream",
          "name": "stdout",
          "text": [
            "Extracting data/FashionMNIST/raw/train-labels-idx1-ubyte.gz to data/FashionMNIST/raw\n",
            "\n",
            "Downloading http://fashion-mnist.s3-website.eu-central-1.amazonaws.com/t10k-images-idx3-ubyte.gz\n",
            "Downloading http://fashion-mnist.s3-website.eu-central-1.amazonaws.com/t10k-images-idx3-ubyte.gz to data/FashionMNIST/raw/t10k-images-idx3-ubyte.gz\n"
          ]
        },
        {
          "output_type": "stream",
          "name": "stderr",
          "text": [
            "100%|██████████| 4422102/4422102 [00:00<00:00, 5086545.38it/s]\n"
          ]
        },
        {
          "output_type": "stream",
          "name": "stdout",
          "text": [
            "Extracting data/FashionMNIST/raw/t10k-images-idx3-ubyte.gz to data/FashionMNIST/raw\n",
            "\n",
            "Downloading http://fashion-mnist.s3-website.eu-central-1.amazonaws.com/t10k-labels-idx1-ubyte.gz\n",
            "Downloading http://fashion-mnist.s3-website.eu-central-1.amazonaws.com/t10k-labels-idx1-ubyte.gz to data/FashionMNIST/raw/t10k-labels-idx1-ubyte.gz\n"
          ]
        },
        {
          "output_type": "stream",
          "name": "stderr",
          "text": [
            "100%|██████████| 5148/5148 [00:00<00:00, 5404825.28it/s]"
          ]
        },
        {
          "output_type": "stream",
          "name": "stdout",
          "text": [
            "Extracting data/FashionMNIST/raw/t10k-labels-idx1-ubyte.gz to data/FashionMNIST/raw\n",
            "\n"
          ]
        },
        {
          "output_type": "stream",
          "name": "stderr",
          "text": [
            "\n"
          ]
        }
      ]
    },
    {
      "cell_type": "code",
      "metadata": {
        "id": "h4PPZnVCXH8_",
        "colab": {
          "base_uri": "https://localhost:8080/"
        },
        "outputId": "f7e09259-2b2f-4a28-a025-726fdd99acca"
      },
      "source": [
        "#Citation for code chunks: https://pytorch.org/tutorials/beginner/basics/quickstart_tutorial.html\n",
        "batch_size = 64\n",
        "\n",
        "train_dataloader = DataLoader(training_data, batch_size=batch_size)\n",
        "validation_dataloader = DataLoader(validation_data, batch_size=batch_size)\n",
        "\n",
        "class MLP(nn.Module):\n",
        "    def __init__(self):\n",
        "        super(MLP, self).__init__()\n",
        "        self.fc1 = nn.Linear(784, 256)\n",
        "        self.fc2 = nn.Linear(256, 128)\n",
        "        self.fc3 = nn.Linear(128, 10)\n",
        "        self.relu = nn.ReLU()\n",
        "\n",
        "    def forward(self, x):\n",
        "        x = x.view(-1, 784)\n",
        "        x = self.relu(self.fc1(x))\n",
        "        x = self.relu(self.fc2(x))\n",
        "        x = self.fc3(x)\n",
        "        return x\n",
        "\n",
        "model = MLP().to(device)\n",
        "print(model)\n",
        "loss_fn = nn.CrossEntropyLoss()\n",
        "optimizer = torch.optim.SGD(model.parameters(), lr=1e-3)\n",
        "\n",
        "epochs = 60\n",
        "training_acc = []\n",
        "training_loss = []\n",
        "validation_acc = []\n",
        "validation_loss = []\n",
        "for epoch in np.arange(epochs):\n",
        "    print(f\"\\nEpoch {epoch+1}\\n-------------------------------\")\n",
        "    size = len(train_dataloader.dataset)\n",
        "    num_batches = len(train_dataloader)\n",
        "    train_loss, other_correct = 0, 0\n",
        "    model.train()\n",
        "    for batch, (X, y) in enumerate(train_dataloader):\n",
        "        X, y = X.to(device), y.to(device)\n",
        "        pred = model(X)\n",
        "        loss = loss_fn(pred, y)\n",
        "        optimizer.zero_grad()\n",
        "        loss.backward()\n",
        "        optimizer.step()\n",
        "        other_correct += (pred.argmax(1) == y).type(torch.float).sum().item()\n",
        "        train_loss += loss_fn(pred, y).item()\n",
        "        if batch % 100 == 0:\n",
        "            loss, current = loss.item(), (batch + 1) * len(X)\n",
        "    train_loss /= num_batches\n",
        "    other_correct /= size\n",
        "    training_acc.append(100*other_correct)\n",
        "    training_loss.append(train_loss)\n",
        "    print(\"Training Accuracy: \", (100*other_correct))\n",
        "    size = len(validation_dataloader.dataset)\n",
        "    num_batches = len(validation_dataloader)\n",
        "    model.eval()\n",
        "    val_loss, correct = 0, 0\n",
        "    with torch.no_grad():\n",
        "        for X, y in validation_dataloader:\n",
        "            X, y = X.to(device), y.to(device)\n",
        "            pred = model(X)\n",
        "            val_loss += loss_fn(pred, y).item()\n",
        "            correct += (pred.argmax(1) == y).type(torch.float).sum().item()\n",
        "    val_loss /= num_batches\n",
        "    correct /= size\n",
        "    validation_acc.append(100*correct)\n",
        "    validation_loss.append(val_loss)\n",
        "    print(\"Validation Accuracy: \", (100*correct))\n",
        "print('Training Accuracy: ', training_acc)\n",
        "print('Validation Accuracy: ', validation_acc)\n",
        "print('Training Loss: ', training_loss)\n",
        "print('Validation Loss: ', validation_loss)"
      ],
      "execution_count": 4,
      "outputs": [
        {
          "output_type": "stream",
          "name": "stdout",
          "text": [
            "MLP(\n",
            "  (fc1): Linear(in_features=784, out_features=256, bias=True)\n",
            "  (fc2): Linear(in_features=256, out_features=128, bias=True)\n",
            "  (fc3): Linear(in_features=128, out_features=10, bias=True)\n",
            "  (relu): ReLU()\n",
            ")\n",
            "\n",
            "Epoch 1\n",
            "-------------------------------\n",
            "Training Accuracy:  29.496666666666666\n",
            "Validation Accuracy:  37.3\n",
            "\n",
            "Epoch 2\n",
            "-------------------------------\n",
            "Training Accuracy:  40.32333333333333\n",
            "Validation Accuracy:  43.269999999999996\n",
            "\n",
            "Epoch 3\n",
            "-------------------------------\n",
            "Training Accuracy:  45.68\n",
            "Validation Accuracy:  47.93\n",
            "\n",
            "Epoch 4\n",
            "-------------------------------\n",
            "Training Accuracy:  53.48333333333334\n",
            "Validation Accuracy:  57.440000000000005\n",
            "\n",
            "Epoch 5\n",
            "-------------------------------\n",
            "Training Accuracy:  60.781666666666666\n",
            "Validation Accuracy:  61.4\n",
            "\n",
            "Epoch 6\n",
            "-------------------------------\n",
            "Training Accuracy:  63.705\n",
            "Validation Accuracy:  63.36000000000001\n",
            "\n",
            "Epoch 7\n",
            "-------------------------------\n",
            "Training Accuracy:  65.18166666666667\n",
            "Validation Accuracy:  64.62\n",
            "\n",
            "Epoch 8\n",
            "-------------------------------\n",
            "Training Accuracy:  66.35\n",
            "Validation Accuracy:  65.7\n",
            "\n",
            "Epoch 9\n",
            "-------------------------------\n",
            "Training Accuracy:  67.45\n",
            "Validation Accuracy:  66.84\n",
            "\n",
            "Epoch 10\n",
            "-------------------------------\n",
            "Training Accuracy:  68.52833333333334\n",
            "Validation Accuracy:  67.74\n",
            "\n",
            "Epoch 11\n",
            "-------------------------------\n",
            "Training Accuracy:  69.66499999999999\n",
            "Validation Accuracy:  68.77\n",
            "\n",
            "Epoch 12\n",
            "-------------------------------\n",
            "Training Accuracy:  70.75333333333333\n",
            "Validation Accuracy:  70.05\n",
            "\n",
            "Epoch 13\n",
            "-------------------------------\n",
            "Training Accuracy:  71.875\n",
            "Validation Accuracy:  71.23\n",
            "\n",
            "Epoch 14\n",
            "-------------------------------\n",
            "Training Accuracy:  72.96000000000001\n",
            "Validation Accuracy:  72.13000000000001\n",
            "\n",
            "Epoch 15\n",
            "-------------------------------\n",
            "Training Accuracy:  73.895\n",
            "Validation Accuracy:  73.08\n",
            "\n",
            "Epoch 16\n",
            "-------------------------------\n",
            "Training Accuracy:  74.79\n",
            "Validation Accuracy:  74.02\n",
            "\n",
            "Epoch 17\n",
            "-------------------------------\n",
            "Training Accuracy:  75.56333333333333\n",
            "Validation Accuracy:  74.7\n",
            "\n",
            "Epoch 18\n",
            "-------------------------------\n",
            "Training Accuracy:  76.23\n",
            "Validation Accuracy:  75.49\n",
            "\n",
            "Epoch 19\n",
            "-------------------------------\n",
            "Training Accuracy:  76.84\n",
            "Validation Accuracy:  76.01\n",
            "\n",
            "Epoch 20\n",
            "-------------------------------\n",
            "Training Accuracy:  77.375\n",
            "Validation Accuracy:  76.62\n",
            "\n",
            "Epoch 21\n",
            "-------------------------------\n",
            "Training Accuracy:  77.87333333333333\n",
            "Validation Accuracy:  77.14999999999999\n",
            "\n",
            "Epoch 22\n",
            "-------------------------------\n",
            "Training Accuracy:  78.32666666666667\n",
            "Validation Accuracy:  77.53999999999999\n",
            "\n",
            "Epoch 23\n",
            "-------------------------------\n",
            "Training Accuracy:  78.82333333333334\n",
            "Validation Accuracy:  77.9\n",
            "\n",
            "Epoch 24\n",
            "-------------------------------\n",
            "Training Accuracy:  79.19\n",
            "Validation Accuracy:  78.3\n",
            "\n",
            "Epoch 25\n",
            "-------------------------------\n",
            "Training Accuracy:  79.55499999999999\n",
            "Validation Accuracy:  78.63\n",
            "\n",
            "Epoch 26\n",
            "-------------------------------\n",
            "Training Accuracy:  79.86333333333333\n",
            "Validation Accuracy:  78.96\n",
            "\n",
            "Epoch 27\n",
            "-------------------------------\n",
            "Training Accuracy:  80.16\n",
            "Validation Accuracy:  79.19\n",
            "\n",
            "Epoch 28\n",
            "-------------------------------\n",
            "Training Accuracy:  80.46\n",
            "Validation Accuracy:  79.51\n",
            "\n",
            "Epoch 29\n",
            "-------------------------------\n",
            "Training Accuracy:  80.77666666666666\n",
            "Validation Accuracy:  79.73\n",
            "\n",
            "Epoch 30\n",
            "-------------------------------\n",
            "Training Accuracy:  81.04333333333334\n",
            "Validation Accuracy:  79.96\n",
            "\n",
            "Epoch 31\n",
            "-------------------------------\n",
            "Training Accuracy:  81.27\n",
            "Validation Accuracy:  80.14\n",
            "\n",
            "Epoch 32\n",
            "-------------------------------\n",
            "Training Accuracy:  81.49833333333333\n",
            "Validation Accuracy:  80.27\n",
            "\n",
            "Epoch 33\n",
            "-------------------------------\n",
            "Training Accuracy:  81.66333333333333\n",
            "Validation Accuracy:  80.35\n",
            "\n",
            "Epoch 34\n",
            "-------------------------------\n",
            "Training Accuracy:  81.79333333333332\n",
            "Validation Accuracy:  80.5\n",
            "\n",
            "Epoch 35\n",
            "-------------------------------\n",
            "Training Accuracy:  81.955\n",
            "Validation Accuracy:  80.73\n",
            "\n",
            "Epoch 36\n",
            "-------------------------------\n",
            "Training Accuracy:  82.08\n",
            "Validation Accuracy:  80.86\n",
            "\n",
            "Epoch 37\n",
            "-------------------------------\n",
            "Training Accuracy:  82.22500000000001\n",
            "Validation Accuracy:  81.13\n",
            "\n",
            "Epoch 38\n",
            "-------------------------------\n",
            "Training Accuracy:  82.395\n",
            "Validation Accuracy:  81.19\n",
            "\n",
            "Epoch 39\n",
            "-------------------------------\n",
            "Training Accuracy:  82.51166666666667\n",
            "Validation Accuracy:  81.35\n",
            "\n",
            "Epoch 40\n",
            "-------------------------------\n",
            "Training Accuracy:  82.68333333333334\n",
            "Validation Accuracy:  81.49\n",
            "\n",
            "Epoch 41\n",
            "-------------------------------\n",
            "Training Accuracy:  82.83166666666666\n",
            "Validation Accuracy:  81.54\n",
            "\n",
            "Epoch 42\n",
            "-------------------------------\n",
            "Training Accuracy:  82.92\n",
            "Validation Accuracy:  81.67\n",
            "\n",
            "Epoch 43\n",
            "-------------------------------\n",
            "Training Accuracy:  83.02333333333334\n",
            "Validation Accuracy:  81.72\n",
            "\n",
            "Epoch 44\n",
            "-------------------------------\n",
            "Training Accuracy:  83.13000000000001\n",
            "Validation Accuracy:  81.91000000000001\n",
            "\n",
            "Epoch 45\n",
            "-------------------------------\n",
            "Training Accuracy:  83.185\n",
            "Validation Accuracy:  81.89999999999999\n",
            "\n",
            "Epoch 46\n",
            "-------------------------------\n",
            "Training Accuracy:  83.28166666666667\n",
            "Validation Accuracy:  82.04\n",
            "\n",
            "Epoch 47\n",
            "-------------------------------\n",
            "Training Accuracy:  83.36333333333333\n",
            "Validation Accuracy:  82.16\n",
            "\n",
            "Epoch 48\n",
            "-------------------------------\n",
            "Training Accuracy:  83.41333333333333\n",
            "Validation Accuracy:  82.22\n",
            "\n",
            "Epoch 49\n",
            "-------------------------------\n",
            "Training Accuracy:  83.50999999999999\n",
            "Validation Accuracy:  82.35\n",
            "\n",
            "Epoch 50\n",
            "-------------------------------\n",
            "Training Accuracy:  83.55333333333334\n",
            "Validation Accuracy:  82.28\n",
            "\n",
            "Epoch 51\n",
            "-------------------------------\n",
            "Training Accuracy:  83.63833333333334\n",
            "Validation Accuracy:  82.28999999999999\n",
            "\n",
            "Epoch 52\n",
            "-------------------------------\n",
            "Training Accuracy:  83.70833333333333\n",
            "Validation Accuracy:  82.43\n",
            "\n",
            "Epoch 53\n",
            "-------------------------------\n",
            "Training Accuracy:  83.785\n",
            "Validation Accuracy:  82.45\n",
            "\n",
            "Epoch 54\n",
            "-------------------------------\n",
            "Training Accuracy:  83.87166666666667\n",
            "Validation Accuracy:  82.44\n",
            "\n",
            "Epoch 55\n",
            "-------------------------------\n",
            "Training Accuracy:  83.93\n",
            "Validation Accuracy:  82.43\n",
            "\n",
            "Epoch 56\n",
            "-------------------------------\n",
            "Training Accuracy:  83.99166666666666\n",
            "Validation Accuracy:  82.50999999999999\n",
            "\n",
            "Epoch 57\n",
            "-------------------------------\n",
            "Training Accuracy:  84.06833333333333\n",
            "Validation Accuracy:  82.6\n",
            "\n",
            "Epoch 58\n",
            "-------------------------------\n",
            "Training Accuracy:  84.14500000000001\n",
            "Validation Accuracy:  82.64\n",
            "\n",
            "Epoch 59\n",
            "-------------------------------\n",
            "Training Accuracy:  84.195\n",
            "Validation Accuracy:  82.67999999999999\n",
            "\n",
            "Epoch 60\n",
            "-------------------------------\n",
            "Training Accuracy:  84.28833333333333\n",
            "Validation Accuracy:  82.74000000000001\n",
            "Training Accuracy:  [29.496666666666666, 40.32333333333333, 45.68, 53.48333333333334, 60.781666666666666, 63.705, 65.18166666666667, 66.35, 67.45, 68.52833333333334, 69.66499999999999, 70.75333333333333, 71.875, 72.96000000000001, 73.895, 74.79, 75.56333333333333, 76.23, 76.84, 77.375, 77.87333333333333, 78.32666666666667, 78.82333333333334, 79.19, 79.55499999999999, 79.86333333333333, 80.16, 80.46, 80.77666666666666, 81.04333333333334, 81.27, 81.49833333333333, 81.66333333333333, 81.79333333333332, 81.955, 82.08, 82.22500000000001, 82.395, 82.51166666666667, 82.68333333333334, 82.83166666666666, 82.92, 83.02333333333334, 83.13000000000001, 83.185, 83.28166666666667, 83.36333333333333, 83.41333333333333, 83.50999999999999, 83.55333333333334, 83.63833333333334, 83.70833333333333, 83.785, 83.87166666666667, 83.93, 83.99166666666666, 84.06833333333333, 84.14500000000001, 84.195, 84.28833333333333]\n",
            "Validation Accuracy:  [37.3, 43.269999999999996, 47.93, 57.440000000000005, 61.4, 63.36000000000001, 64.62, 65.7, 66.84, 67.74, 68.77, 70.05, 71.23, 72.13000000000001, 73.08, 74.02, 74.7, 75.49, 76.01, 76.62, 77.14999999999999, 77.53999999999999, 77.9, 78.3, 78.63, 78.96, 79.19, 79.51, 79.73, 79.96, 80.14, 80.27, 80.35, 80.5, 80.73, 80.86, 81.13, 81.19, 81.35, 81.49, 81.54, 81.67, 81.72, 81.91000000000001, 81.89999999999999, 82.04, 82.16, 82.22, 82.35, 82.28, 82.28999999999999, 82.43, 82.45, 82.44, 82.43, 82.50999999999999, 82.6, 82.64, 82.67999999999999, 82.74000000000001]\n",
            "Training Loss:  [2.258651717131072, 2.1234219464411868, 1.8638091621114248, 1.5429073024406108, 1.2971919541165773, 1.132834391108454, 1.0216212390836623, 0.9436807791942726, 0.8866853446467344, 0.8435460278855712, 0.8096221585644842, 0.7820705938567993, 0.758768933414142, 0.738380118378444, 0.7200780460384609, 0.703384368150219, 0.6879140440144265, 0.6735079598261603, 0.6600382631775666, 0.6473958566943719, 0.6355493672049122, 0.624438534667497, 0.6140227005489345, 0.6042668468662417, 0.5951248708564335, 0.5865446595685568, 0.578489656133184, 0.5709122881007347, 0.5637722191398841, 0.5570374385698009, 0.5506684320377134, 0.5446246613317461, 0.5388688758047405, 0.5333974848487484, 0.5282078047614616, 0.5232855796750421, 0.5186163189251032, 0.5141849124164724, 0.5099757292123237, 0.505973356587292, 0.5021692007970708, 0.4985513958468366, 0.4951056038964786, 0.49182287244590867, 0.48869666099738973, 0.4857194399528666, 0.4828810273075917, 0.48017068159605647, 0.4775767581168014, 0.47508963632748835, 0.47270362479473227, 0.4704085962096257, 0.4682037422715474, 0.46608179048307413, 0.4640346673537673, 0.4620573846960881, 0.46014564227003024, 0.45829119636560045, 0.4564929760214108, 0.4547459096161287]\n",
            "Validation Loss:  [2.2066793046939144, 2.019163927454857, 1.7009487129320764, 1.4098188482272398, 1.2118253020723915, 1.0800323497717548, 0.9897645142427676, 0.9252792551259327, 0.8772605084309912, 0.8403460633982519, 0.8106928746791402, 0.7861222241334854, 0.7648677499430954, 0.7459667810968532, 0.7287876351623778, 0.7130014393359992, 0.6983011486424002, 0.6846072533328063, 0.6717570053923662, 0.6597612690014444, 0.6485520601272583, 0.6380734923918536, 0.628282296999245, 0.6191501072637594, 0.6106230612773045, 0.6026447339422384, 0.5951766559652462, 0.5881733095190328, 0.5815914100522448, 0.5753911109107315, 0.5695360500341767, 0.5639818885903449, 0.558689356989162, 0.5536743597999499, 0.5489370889344792, 0.5444495619102648, 0.5401942206036513, 0.5361624390456328, 0.53234287128327, 0.5287141312079825, 0.5252697016023526, 0.5219998035081632, 0.5188849164042503, 0.515926863167696, 0.5131232945402716, 0.5104584078879872, 0.5079267341999492, 0.5055111322053678, 0.5032030057375598, 0.5010052839661859, 0.4988985623523688, 0.4968777805756611, 0.4949413820816453, 0.4930790548871277, 0.49128620051274635, 0.48956304541818657, 0.4878949261015388, 0.48628425522215046, 0.4847247716347883, 0.4832065230721881]\n"
          ]
        }
      ]
    },
    {
      "cell_type": "code",
      "source": [
        "plt.plot(np.arange(1, 61), training_acc)\n",
        "plt.plot(np.arange(1, 61), validation_acc)\n",
        "plt.xlabel('Number of Epochs')\n",
        "plt.ylabel('Accuracy')\n",
        "plt.title('Training/Validation Accuracy vs. Number of Epochs')\n",
        "plt.legend([\"Training\", \"Validation\"])\n",
        "plt.show()"
      ],
      "metadata": {
        "colab": {
          "base_uri": "https://localhost:8080/",
          "height": 472
        },
        "id": "cfVDWo9b0z1t",
        "outputId": "ef51c203-0630-419c-b113-02c7cd8ab3f4"
      },
      "execution_count": 5,
      "outputs": [
        {
          "output_type": "display_data",
          "data": {
            "text/plain": [
              "<Figure size 640x480 with 1 Axes>"
            ],
            "image/png": "[encoded data removed]"
          },
          "metadata": {}
        }
      ]
    },
    {
      "cell_type": "code",
      "source": [
        "plt.plot(np.arange(1, 61), training_loss)\n",
        "plt.plot(np.arange(1, 61), validation_loss)\n",
        "plt.xlabel('Number of Epochs')\n",
        "plt.ylabel('Loss')\n",
        "plt.title('Training/Validation Loss vs. Number of Epochs')\n",
        "plt.legend([\"Training\", \"Validation\"])\n",
        "plt.show()"
      ],
      "metadata": {
        "colab": {
          "base_uri": "https://localhost:8080/",
          "height": 472
        },
        "id": "btzDnKNQ21Im",
        "outputId": "1a6b88e4-5538-4414-d98b-0d041e5c2ae0"
      },
      "execution_count": 6,
      "outputs": [
        {
          "output_type": "display_data",
          "data": {
            "text/plain": [
              "<Figure size 640x480 with 1 Axes>"
            ],
            "image/png": "[encoded data removed]"
          },
          "metadata": {}
        }
      ]
    }
  ]
}